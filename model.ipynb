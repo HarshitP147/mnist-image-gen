{
  "cells": [
    {
      "cell_type": "code",
      "execution_count": 1,
      "id": "5660cfef",
      "metadata": {
        "id": "5660cfef"
      },
      "outputs": [],
      "source": [
        "import torch\n",
        "import torch.nn as nn\n",
        "import torch.nn.functional as F\n",
        "from torch.cuda.amp import GradScaler, autocast\n",
        "from torchvision import datasets, transforms\n",
        "from torch.utils.data import DataLoader\n",
        "import tqdm\n",
        "import os\n",
        "import math\n",
        "import matplotlib.pyplot as plt\n",
        "from IPython.display import clear_output"
      ]
    },
    {
      "cell_type": "code",
      "execution_count": 2,
      "id": "74fd52d2",
      "metadata": {
        "id": "74fd52d2",
        "outputId": "3e5b5625-9fe0-414d-e0a1-d1b042940056",
        "colab": {
          "base_uri": "https://localhost:8080/"
        }
      },
      "outputs": [
        {
          "output_type": "stream",
          "name": "stdout",
          "text": [
            "Using device: Tesla T4\n"
          ]
        }
      ],
      "source": [
        "# Set up device and optimizations\n",
        "torch.backends.cudnn.benchmark = True\n",
        "device = torch.device('cuda' if torch.cuda.is_available() else 'cpu')\n",
        "print(f\"Using device: {torch.cuda.get_device_name(0)}\")"
      ]
    },
    {
      "cell_type": "code",
      "execution_count": 3,
      "id": "05cae89f",
      "metadata": {
        "id": "05cae89f",
        "outputId": "307d6a09-701a-48e9-c6f9-543d4e4fae16",
        "colab": {
          "base_uri": "https://localhost:8080/"
        }
      },
      "outputs": [
        {
          "output_type": "stream",
          "name": "stderr",
          "text": [
            "100%|██████████| 9.91M/9.91M [00:00<00:00, 16.1MB/s]\n",
            "100%|██████████| 28.9k/28.9k [00:00<00:00, 481kB/s]\n",
            "100%|██████████| 1.65M/1.65M [00:00<00:00, 4.45MB/s]\n",
            "100%|██████████| 4.54k/4.54k [00:00<00:00, 7.93MB/s]"
          ]
        },
        {
          "output_type": "stream",
          "name": "stdout",
          "text": [
            "Total training images: 60000\n"
          ]
        },
        {
          "output_type": "stream",
          "name": "stderr",
          "text": [
            "\n"
          ]
        }
      ],
      "source": [
        "# Load MNIST dataset\n",
        "transform = transforms.Compose([transforms.ToTensor(), transforms.Normalize((0.5,), (0.5,))])\n",
        "train_dataset = datasets.MNIST(root='./data', train=True, transform=transform, download=True)\n",
        "train_dataloader = DataLoader(train_dataset, batch_size=64, shuffle=True, num_workers=2, pin_memory=True)\n",
        "print(f\"Total training images: {len(train_dataset)}\")"
      ]
    },
    {
      "cell_type": "code",
      "execution_count": 15,
      "id": "83b8e1a8",
      "metadata": {
        "id": "83b8e1a8"
      },
      "outputs": [],
      "source": [
        "# Diffusion schedules\n",
        "T = 1000\n",
        "beta_start, beta_end = 1e-4, 0.02\n",
        "betas = torch.linspace(beta_start, beta_end, T).to(device)\n",
        "alphas = 1. - betas\n",
        "alphas_cumprod = torch.cumprod(alphas, dim=0).to(device)\n",
        "sqrt_alphas_cumprod = torch.sqrt(alphas_cumprod).to(device)\n",
        "sqrt_one_minus_alphas_cumprod = torch.sqrt(1 - alphas_cumprod).to(device)"
      ]
    },
    {
      "cell_type": "code",
      "execution_count": 16,
      "id": "67e7ade5",
      "metadata": {
        "id": "67e7ade5"
      },
      "outputs": [],
      "source": [
        "# Forward diffusion function\n",
        "def forward_diffusion_sample(x_0, t, device=device):\n",
        "    noise = torch.randn_like(x_0).to(device)\n",
        "    sqrt_alphas_cumprod_t = sqrt_alphas_cumprod[t][:, None, None, None]\n",
        "    sqrt_one_minus_alphas_cumprod_t = sqrt_one_minus_alphas_cumprod[t][:, None, None, None]\n",
        "    x_t = sqrt_alphas_cumprod_t * x_0 + sqrt_one_minus_alphas_cumprod_t * noise\n",
        "    return x_t, noise"
      ]
    },
    {
      "cell_type": "code",
      "execution_count": 10,
      "id": "dee5a076",
      "metadata": {
        "id": "dee5a076"
      },
      "outputs": [],
      "source": [
        "import math\n",
        "\n",
        "# Guided UNet model with label conditioning\n",
        "class SinusoidalTimeEmbedding(nn.Module):\n",
        "    def __init__(self, dim):\n",
        "        super().__init__()\n",
        "        self.dim = dim\n",
        "    def forward(self, t):\n",
        "        half_dim = self.dim // 2\n",
        "        emb = math.log(10000) / (half_dim - 1)\n",
        "        emb = torch.exp(torch.arange(half_dim, device=t.device) * -emb)\n",
        "        emb = t[:, None] * emb[None, :]\n",
        "        emb = torch.cat([torch.sin(emb), torch.cos(emb)], dim=1)\n",
        "        if emb.shape[1] < self.dim:\n",
        "            emb = F.pad(emb, (0, self.dim - emb.shape[1]))\n",
        "        return emb\n",
        "\n",
        "class ResidualBlock(nn.Module):\n",
        "    def __init__(self, in_channels, out_channels):\n",
        "        super().__init__()\n",
        "        self.conv1 = nn.Conv2d(in_channels, out_channels, 3, padding=1)\n",
        "        self.conv2 = nn.Conv2d(out_channels, out_channels, 3, padding=1)\n",
        "        self.shortcut = nn.Conv2d(in_channels, out_channels, 1) if in_channels != out_channels else nn.Identity()\n",
        "    def forward(self, x):\n",
        "        identity = x\n",
        "        x = F.relu(self.conv1(x))\n",
        "        x = self.conv2(x)\n",
        "        x += self.shortcut(identity)\n",
        "        return F.relu(x)\n",
        "\n",
        "class UNet(nn.Module):\n",
        "    def __init__(self, time_dim=256, label_dim=10):\n",
        "        super().__init__()\n",
        "        self.time_mlp = nn.Sequential(\n",
        "            SinusoidalTimeEmbedding(time_dim),\n",
        "            nn.Linear(time_dim, time_dim),\n",
        "            nn.ReLU(),\n",
        "            nn.Linear(time_dim, time_dim)\n",
        "        )\n",
        "        self.label_mlp = nn.Sequential(\n",
        "            nn.Linear(label_dim, time_dim),  # Map 10-class one-hot to time_dim\n",
        "            nn.ReLU()\n",
        "        )\n",
        "        self.enc1 = ResidualBlock(1, 64)\n",
        "        self.enc2 = ResidualBlock(64, 128)\n",
        "        self.enc3 = ResidualBlock(128, 256)\n",
        "        self.time_proj1 = nn.Linear(time_dim, 64)\n",
        "        self.time_proj2 = nn.Linear(time_dim, 128)\n",
        "        self.time_proj3 = nn.Linear(time_dim, 256)\n",
        "        self.bottleneck = ResidualBlock(256, 256)\n",
        "        self.dec1 = ResidualBlock(512, 128)  # 256 + 256 from skip\n",
        "        self.dec2 = ResidualBlock(256, 64)   # 128 + 128 from skip\n",
        "        self.dec3 = nn.Conv2d(128, 1, 3, padding=1)  # 64 + 64 from skip\n",
        "\n",
        "    def forward(self, x, t, labels):\n",
        "        t_emb = self.time_mlp(t)\n",
        "        l_emb = self.label_mlp(labels)  # (batch, 10) -> (batch, time_dim)\n",
        "        combined_emb = t_emb + l_emb\n",
        "        x1 = self.enc1(x) + self.time_proj1(combined_emb).unsqueeze(-1).unsqueeze(-1)\n",
        "        x2 = self.enc2(x1) + self.time_proj2(combined_emb).unsqueeze(-1).unsqueeze(-1)\n",
        "        x3 = self.enc3(x2) + self.time_proj3(combined_emb).unsqueeze(-1).unsqueeze(-1)\n",
        "        x = self.bottleneck(x3)\n",
        "        x = self.dec1(torch.cat([x, x3], dim=1))\n",
        "        x = self.dec2(torch.cat([x, x2], dim=1))\n",
        "        x = self.dec3(torch.cat([x, x1], dim=1))\n",
        "        return x"
      ]
    },
    {
      "cell_type": "code",
      "execution_count": null,
      "id": "abd16143",
      "metadata": {
        "id": "abd16143",
        "outputId": "a504ed0e-9848-48cc-ae68-eb29c702662b"
      },
      "outputs": [
        {
          "name": "stderr",
          "output_type": "stream",
          "text": [
            "/tmp/ipykernel_1679/1862165192.py:1: FutureWarning: `torch.cuda.amp.GradScaler(args...)` is deprecated. Please use `torch.amp.GradScaler('cuda', args...)` instead.\n",
            "  scaler = GradScaler()\n"
          ]
        }
      ],
      "source": [
        "scaler = GradScaler()\n",
        "epochs = 200\n",
        "checkpoint_path = \"checkpoint_guided.pth\""
      ]
    },
    {
      "cell_type": "code",
      "execution_count": null,
      "id": "54b79272",
      "metadata": {
        "id": "54b79272"
      },
      "outputs": [],
      "source": [
        "import os\n",
        "\n",
        "if os.path.exists(checkpoint_path):\n",
        "    checkpoint = torch.load(checkpoint_path)\n",
        "    model.load_state_dict(checkpoint['model_state_dict'])\n",
        "    optimizer.load_state_dict(checkpoint['optimizer_state_dict'])\n",
        "    start_epoch = checkpoint['epoch'] + 1\n",
        "    losses_per_epoch = checkpoint['losses_per_epoch']\n",
        "    psnrs_per_epoch = checkpoint['psnrs_per_epoch']\n",
        "    accuracies_per_epoch = checkpoint['accuracies_per_epoch']\n",
        "    print(f\"Resumed from epoch {start_epoch}\")\n",
        "else:\n",
        "    start_epoch = 0\n",
        "    losses_per_epoch = []\n",
        "    psnrs_per_epoch = []\n",
        "    accuracies_per_epoch = []"
      ]
    },
    {
      "cell_type": "code",
      "execution_count": null,
      "id": "32806006",
      "metadata": {
        "id": "32806006"
      },
      "outputs": [],
      "source": [
        "def psnr(pred, target, max_val=1.0):\n",
        "    mse = torch.mean((pred-target) ** 2)\n",
        "    return 20 * torch.log10(max_val / torch.sqrt(mse)) if mse > 0 else float('inf')"
      ]
    },
    {
      "cell_type": "code",
      "execution_count": 4,
      "id": "98ec6e46",
      "metadata": {
        "id": "98ec6e46"
      },
      "outputs": [],
      "source": [
        "# Simple Digit classifier to evaluate accuracy (using a small MLP)\n",
        "class DigitClassifier(nn.Module):\n",
        "    def __init__(self):\n",
        "        super().__init__()\n",
        "        self.fc = nn.Sequential(\n",
        "            nn.Flatten(),\n",
        "            nn.Linear(28 * 28, 128),\n",
        "            nn.ReLU(),\n",
        "            nn.Linear(128, 10)\n",
        "        )\n",
        "\n",
        "    def forward(self, x):\n",
        "        return self.fc(x)"
      ]
    },
    {
      "cell_type": "code",
      "execution_count": 5,
      "id": "6f3a8a63",
      "metadata": {
        "id": "6f3a8a63"
      },
      "outputs": [],
      "source": [
        "classifier = DigitClassifier().to(device)\n",
        "classifier_optimizer = torch.optim.Adam(classifier.parameters(), lr=1e-4)\n",
        "classifier_criterion = nn.CrossEntropyLoss()"
      ]
    },
    {
      "cell_type": "code",
      "execution_count": 7,
      "id": "1461e596",
      "metadata": {
        "id": "1461e596",
        "outputId": "ee9158fc-384f-4fea-95cc-d79a8b75c7ff",
        "colab": {
          "base_uri": "https://localhost:8080/"
        }
      },
      "outputs": [
        {
          "output_type": "stream",
          "name": "stdout",
          "text": [
            "Resumed classifier training from epoch 70\n",
            "Starting classifier training...\n"
          ]
        },
        {
          "output_type": "stream",
          "name": "stderr",
          "text": [
            "/tmp/ipython-input-7-4293556471.py:7: FutureWarning: `torch.cuda.amp.GradScaler(args...)` is deprecated. Please use `torch.amp.GradScaler('cuda', args...)` instead.\n",
            "  scaler = GradScaler()\n"
          ]
        }
      ],
      "source": [
        "import math  # Ensure math is available\n",
        "\n",
        "# Train DigitClassifier\n",
        "classifier = DigitClassifier().to(device)\n",
        "classifier_optimizer = torch.optim.Adam(classifier.parameters(), lr=1e-4)\n",
        "classifier_criterion = nn.CrossEntropyLoss()\n",
        "scaler = GradScaler()\n",
        "epochs = 70  # Enough for MNIST classification, ~10-15 minutes\n",
        "checkpoint_path_classifier = \"checkpoint_classifier.pth\"\n",
        "\n",
        "if os.path.exists(checkpoint_path_classifier):\n",
        "    try:\n",
        "        checkpoint = torch.load(checkpoint_path_classifier)\n",
        "        classifier.load_state_dict(checkpoint['classifier_state_dict'])\n",
        "        classifier_optimizer.load_state_dict(checkpoint['classifier_optimizer_state_dict'])\n",
        "        start_epoch = checkpoint['epoch'] + 1\n",
        "        losses_per_epoch = checkpoint['losses_per_epoch']\n",
        "        accuracies_per_epoch = checkpoint['accuracies_per_epoch']\n",
        "        print(f\"Resumed classifier training from epoch {start_epoch}\")\n",
        "    except Exception as e:\n",
        "        print(f\"Error loading checkpoint: {e}. Starting fresh.\")\n",
        "        start_epoch = 0\n",
        "        losses_per_epoch = []\n",
        "        accuracies_per_epoch = []\n",
        "else:\n",
        "    start_epoch = 0\n",
        "    losses_per_epoch = []\n",
        "    accuracies_per_epoch = []\n",
        "\n",
        "print(\"Starting classifier training...\")\n",
        "for epoch in range(start_epoch, epochs):\n",
        "    classifier.train()\n",
        "    pbar = tqdm.tqdm(train_dataloader)\n",
        "    total_loss, correct_preds, total_preds = 0, 0, 0\n",
        "\n",
        "    for step, (x, labels) in enumerate(pbar):\n",
        "        try:\n",
        "            x = x.to(device)  # (batch, 1, 28, 28)\n",
        "            labels = labels.to(device)  # (batch), indices 0-9\n",
        "            batch_size = x.shape[0]\n",
        "\n",
        "            with autocast():\n",
        "                flat_x = x.view(batch_size, -1)  # Flatten to (batch, 784)\n",
        "                pred_labels = classifier(flat_x)  # Should be (batch, 10)\n",
        "                loss = classifier_criterion(pred_labels, labels)  # Ensure labels are indices\n",
        "\n",
        "            classifier_optimizer.zero_grad()\n",
        "            scaler.scale(loss).backward()\n",
        "            scaler.step(classifier_optimizer)\n",
        "            scaler.update()\n",
        "\n",
        "            _, predicted = torch.max(pred_labels, 1)  # Get predicted class indices\n",
        "            correct_preds += (predicted == labels).sum().item()\n",
        "            total_preds += batch_size\n",
        "            total_loss += loss.item()\n",
        "            accuracy = correct_preds / total_preds * 100\n",
        "            pbar.set_description(f\"Classifier Loss: {loss.item():.4f} | Acc: {accuracy:.2f}%\")\n",
        "        except RuntimeError as e:\n",
        "            print(f\"Runtime error at step {step}: {e}. Skipping batch. Check dimensions or reduce batch size to 32.\")\n",
        "            break\n",
        "        except ValueError as e:\n",
        "            print(f\"Value error at step {step}: {e}. Likely dimension mismatch. pred_labels shape: {pred_labels.shape}, labels shape: {labels.shape}\")\n",
        "            break\n",
        "\n",
        "    if total_preds > 0:\n",
        "        avg_loss = total_loss / (step + 1)  # Adjust for possible early break\n",
        "        accuracy = correct_preds / total_preds * 100\n",
        "        losses_per_epoch.append(avg_loss)\n",
        "        accuracies_per_epoch.append(accuracy)\n",
        "        print(f\"Epoch {epoch+1}/{epochs} | Average Loss: {avg_loss:.6f} | Accuracy: {accuracy:.2f}%\")\n",
        "    else:\n",
        "        print(f\"Epoch {epoch+1}/{epochs} | No valid batches processed. Check data loading.\")\n",
        "        losses_per_epoch.append(float('nan'))\n",
        "        accuracies_per_epoch.append(0.0)\n",
        "\n",
        "    torch.save({\n",
        "        'epoch': epoch,\n",
        "        'classifier_state_dict': classifier.state_dict(),\n",
        "        'classifier_optimizer_state_dict': classifier_optimizer.state_dict(),\n",
        "        'losses_per_epoch': losses_per_epoch,\n",
        "        'accuracies_per_epoch': accuracies_per_epoch,\n",
        "    }, checkpoint_path_classifier)\n",
        "    print(f\"Classifier checkpoint saved at epoch {epoch+1}\")\n",
        "\n",
        "    # Plotting\n",
        "    clear_output(wait=True)\n",
        "    plt.figure(figsize=(12, 4))\n",
        "    plt.subplot(1, 2, 1)\n",
        "    plt.plot(range(1, epoch + 2), losses_per_epoch, label='Loss', color='blue')\n",
        "    plt.xlabel(\"Epoch\")\n",
        "    plt.ylabel(\"Loss\")\n",
        "    plt.title(\"Classifier Loss vs Epoch\")\n",
        "    plt.grid(True)\n",
        "    plt.subplot(1, 2, 2)\n",
        "    plt.plot(range(1, epoch + 2), accuracies_per_epoch, label='Accuracy (%)', color='green')\n",
        "    plt.xlabel(\"Epoch\")\n",
        "    plt.ylabel(\"Accuracy\")\n",
        "    plt.title(\"Classifier Accuracy vs Epoch\")\n",
        "    plt.grid(True)\n",
        "    plt.tight_layout()\n",
        "    plt.show()"
      ]
    },
    {
      "cell_type": "code",
      "execution_count": 8,
      "id": "654069dd",
      "metadata": {
        "id": "654069dd",
        "outputId": "22a74914-5762-4613-a4ff-19e4af8bb96c",
        "colab": {
          "base_uri": "https://localhost:8080/",
          "height": 618
        }
      },
      "outputs": [
        {
          "output_type": "stream",
          "name": "stdout",
          "text": [
            "Test Accuracy on batch: 100.00%\n",
            "Correct predictions: 64 out of 64\n"
          ]
        },
        {
          "output_type": "display_data",
          "data": {
            "text/plain": [
              "<Figure size 1200x600 with 10 Axes>"
            ],
            "image/png": "[encoded data removed]"
          },
          "metadata": {}
        }
      ],
      "source": [
        "# Test DigitClassifier\n",
        "classifier.eval()\n",
        "\n",
        "# Get a batch for testing\n",
        "dataiter = iter(train_dataloader)\n",
        "images, labels = next(dataiter)\n",
        "images, labels = images.to(device), labels.to(device)\n",
        "batch_size = images.shape[0]\n",
        "\n",
        "with torch.no_grad():\n",
        "    flat_images = images.view(batch_size, -1)  # Flatten to (batch, 784)\n",
        "    outputs = classifier(flat_images)  # (batch, 10)\n",
        "    _, predicted = torch.max(outputs, 1)  # Get predicted class indices\n",
        "\n",
        "# Calculate accuracy\n",
        "correct = (predicted == labels).sum().item()\n",
        "accuracy = correct / batch_size * 100\n",
        "print(f\"Test Accuracy on batch: {accuracy:.2f}%\")\n",
        "print(f\"Correct predictions: {correct} out of {batch_size}\")\n",
        "\n",
        "# Visualize some predictions\n",
        "import numpy as np\n",
        "import matplotlib.pyplot as plt\n",
        "\n",
        "fig, axes = plt.subplots(2, 5, figsize=(12, 6))\n",
        "axes = axes.ravel()\n",
        "for idx in range(10):\n",
        "    ax = axes[idx]\n",
        "    img = images[idx].cpu().numpy().squeeze()  # (1, 28, 28) -> (28, 28)\n",
        "    ax.imshow(img, cmap='gray')\n",
        "    ax.set_title(f\"True: {labels[idx].item()}\\nPred: {predicted[idx].item()}\")\n",
        "    ax.axis('off')\n",
        "plt.tight_layout()\n",
        "plt.show()"
      ]
    },
    {
      "cell_type": "code",
      "execution_count": null,
      "id": "2c1af2de",
      "metadata": {
        "id": "2c1af2de"
      },
      "outputs": [],
      "source": [
        "@torch.no_grad()\n",
        "def sample(model, n_samples=1, img_size=28, channels=1, label=None):\n",
        "    model.eval()\n",
        "    if label is None:\n",
        "        labels = torch.randint(0, 10, (n_samples,)).to(device)\n",
        "    else:\n",
        "        labels = torch.full((n_samples,), label, device=device)\n",
        "    labels_one_hot = F.one_hot(labels, num_classes=10).float()\n",
        "    x = torch.randn((n_samples, channels, img_size, img_size)).to(device)\n",
        "    for t in reversed(range(1, T)):\n",
        "        t_batch = torch.full((n_samples,), t, device=device, dtype=torch.long)\n",
        "        beta_t = betas[t].to(device)\n",
        "        sqrt_one_minus_alphas_cumprod_t = sqrt_one_minus_alphas_cumprod[t].to(device)\n",
        "        sqrt_recip_alpha_t = (1.0 / torch.sqrt(alphas[t])).to(device)\n",
        "        epsilon_theta = model(x, t_batch.float(), labels_one_hot)\n",
        "        model_mean = sqrt_recip_alpha_t * (x - beta_t * epsilon_theta / sqrt_one_minus_alphas_cumprod_t)\n",
        "        if t > 1:\n",
        "            noise = torch.randn_like(x).to(device)\n",
        "            sigma_t = torch.sqrt(beta_t)\n",
        "            x = model_mean + sigma_t * noise\n",
        "        else:\n",
        "            x = model_mean\n",
        "    x = torch.clamp(x, -1, 1)\n",
        "    return x * 0.5 + 0.5  # Unnormalize to [0, 1] for plotting and classification"
      ]
    },
    {
      "cell_type": "code",
      "execution_count": 11,
      "id": "38b89577",
      "metadata": {
        "id": "38b89577",
        "outputId": "199dbd35-c39c-4e2c-9d60-d535c493545c",
        "colab": {
          "base_uri": "https://localhost:8080/"
        }
      },
      "outputs": [
        {
          "output_type": "stream",
          "name": "stdout",
          "text": [
            "Resumed diffusion training from epoch 300\n"
          ]
        },
        {
          "output_type": "stream",
          "name": "stderr",
          "text": [
            "/tmp/ipython-input-11-1312417916.py:6: FutureWarning: `torch.cuda.amp.GradScaler(args...)` is deprecated. Please use `torch.amp.GradScaler('cuda', args...)` instead.\n",
            "  scaler = GradScaler()\n"
          ]
        }
      ],
      "source": [
        "# Train Guided Diffusion Model\n",
        "checkpoint_path_diffusion = \"checkpoint_diffusion.pth\"\n",
        "model = UNet().to(device)\n",
        "optimizer = torch.optim.Adam(model.parameters(), lr=1e-4)\n",
        "mse = nn.MSELoss()\n",
        "scaler = GradScaler()\n",
        "epochs = 250\n",
        "\n",
        "# Load pre-trained classifier\n",
        "checkpoint_classifier = torch.load(\"checkpoint_classifier.pth\")\n",
        "classifier = DigitClassifier().to(device)\n",
        "classifier.load_state_dict(checkpoint_classifier['classifier_state_dict'])\n",
        "classifier.eval()  # Freeze classifier, no training\n",
        "\n",
        "if os.path.exists(checkpoint_path_diffusion):\n",
        "    checkpoint = torch.load(checkpoint_path_diffusion)\n",
        "    model.load_state_dict(checkpoint['model_state_dict'])\n",
        "    optimizer.load_state_dict(checkpoint['optimizer_state_dict'])\n",
        "    start_epoch = checkpoint['epoch'] + 1\n",
        "    losses_per_epoch = checkpoint['losses_per_epoch']\n",
        "    psnrs_per_epoch = checkpoint['psnrs_per_epoch']\n",
        "    print(f\"Resumed diffusion training from epoch {start_epoch}\")\n",
        "else:\n",
        "    start_epoch = 0\n",
        "    losses_per_epoch = []\n",
        "    psnrs_per_epoch = []\n",
        "    accuracies_per_epoch = []\n",
        "\n",
        "def psnr(pred, target, max_val=1.0):\n",
        "    mse = torch.mean((pred - target) ** 2)\n",
        "    return 20 * torch.log10(max_val / torch.sqrt(mse)) if mse > 0 else float('inf')\n",
        "\n",
        "@torch.no_grad()\n",
        "def sample(model, n_samples=64, img_size=28, channels=1, label=None):\n",
        "    model.eval()\n",
        "    if label is None:\n",
        "        labels = torch.randint(0, 10, (n_samples,)).to(device)\n",
        "    else:\n",
        "        labels = torch.full((n_samples,), label, device=device)\n",
        "    labels_one_hot = F.one_hot(labels, num_classes=10).float()\n",
        "    x = torch.randn((n_samples, channels, img_size, img_size)).to(device)\n",
        "    for t in reversed(range(1, T)):\n",
        "        t_batch = torch.full((n_samples,), t, device=device, dtype=torch.long)\n",
        "        beta_t = betas[t].to(device)\n",
        "        sqrt_one_minus_alphas_cumprod_t = sqrt_one_minus_alphas_cumprod[t].to(device)\n",
        "        sqrt_recip_alpha_t = (1.0 / torch.sqrt(alphas[t])).to(device)\n",
        "        epsilon_theta = model(x, t_batch.float(), labels_one_hot)\n",
        "        model_mean = sqrt_recip_alpha_t * (x - beta_t * epsilon_theta / sqrt_one_minus_alphas_cumprod_t)\n",
        "        if t > 1:\n",
        "            noise = torch.randn_like(x).to(device)\n",
        "            sigma_t = torch.sqrt(beta_t)\n",
        "            x = model_mean + sigma_t * noise\n",
        "        else:\n",
        "            x = model_mean\n",
        "    x = torch.clamp(x, -1, 1)\n",
        "    return x * 0.5 + 0.5  # Unnormalize to [0, 1]\n"
      ]
    },
    {
      "cell_type": "code",
      "execution_count": 12,
      "id": "664f3280",
      "metadata": {
        "id": "664f3280",
        "outputId": "d7e3907a-d6f5-47f3-9a87-496adc6e1e4e",
        "colab": {
          "base_uri": "https://localhost:8080/"
        }
      },
      "outputs": [
        {
          "output_type": "stream",
          "name": "stdout",
          "text": [
            "Starting diffusion training...\n"
          ]
        }
      ],
      "source": [
        "epochs = 300\n",
        "\n",
        "print(\"Starting diffusion training...\")\n",
        "for epoch in range(start_epoch, epochs):\n",
        "    print(f\"\\nEpoch {epoch+1}/{epochs}\")\n",
        "    pbar = tqdm.tqdm(train_dataloader)\n",
        "    total_loss, step_count, total_psnr = 0, 0, 0\n",
        "\n",
        "    model.train()\n",
        "    for step, (x, labels) in enumerate(pbar):\n",
        "        try:\n",
        "            x = x.to(device)  # (batch, 1, 28, 28)\n",
        "            labels_one_hot = F.one_hot(labels, num_classes=10).float().to(device)\n",
        "            batch_size = x.shape[0]\n",
        "            t = torch.randint(0, T, (batch_size,), device=device).long()\n",
        "\n",
        "            with autocast():\n",
        "                x_t, noise = forward_diffusion_sample(x, t)\n",
        "                if x_t.shape != noise.shape or x_t.shape[1:] != (1, 28, 28):\n",
        "                    raise ValueError(f\"Shape mismatch: x_t {x_t.shape}, noise {noise.shape}\")\n",
        "                noise_pred = model(x_t, t.float(), labels_one_hot)\n",
        "                if noise_pred.shape != noise.shape:\n",
        "                    raise ValueError(f\"Shape mismatch: noise_pred {noise_pred.shape}, noise {noise.shape}\")\n",
        "                loss = mse(noise_pred, noise)\n",
        "\n",
        "            optimizer.zero_grad()\n",
        "            scaler.scale(loss).backward()\n",
        "            scaler.step(optimizer)\n",
        "            scaler.update()\n",
        "\n",
        "            # PSNR calculation\n",
        "            alpha_bar = sqrt_alphas_cumprod[t][:, None, None, None]\n",
        "            one_minus_alpha_bar = sqrt_one_minus_alphas_cumprod[t][:, None, None, None]\n",
        "            x0_pred = (x_t - one_minus_alpha_bar * noise_pred) / alpha_bar\n",
        "            x0_pred = torch.clamp(x0_pred, -1, 1)\n",
        "            if x0_pred.shape != x.shape:\n",
        "                raise ValueError(f\"Shape mismatch: x0_pred {x0_pred.shape}, x {x.shape}\")\n",
        "            batch_psnr = psnr(x0_pred, x)\n",
        "\n",
        "            total_loss += loss.item()\n",
        "            total_psnr += batch_psnr.item()\n",
        "            step_count += 1\n",
        "            pbar.set_description(f\"Loss: {loss.item():.4f} | PSNR: {batch_psnr.item():.2f}\")\n",
        "        except RuntimeError as e:\n",
        "            print(f\"Runtime error at step {step}: {e}. Skipping batch. Consider reducing batch size to 16.\")\n",
        "            break\n",
        "        except ValueError as e:\n",
        "            print(f\"Value error at step {step}: {e}. Adjusting flow to prevent crash.\")\n",
        "            break\n",
        "\n",
        "    if step_count > 0:\n",
        "        avg_loss = total_loss / step_count\n",
        "        avg_psnr = total_psnr / step_count\n",
        "        losses_per_epoch.append(avg_loss)\n",
        "        psnrs_per_epoch.append(avg_psnr)\n",
        "        print(f\"Average Loss: {avg_loss:.6f} | Average PSNR: {avg_psnr:.2f}\")\n",
        "    else:\n",
        "        print(f\"Epoch {epoch+1}/{epochs} | No valid batches processed. Check data or reduce batch size.\")\n",
        "        losses_per_epoch.append(float('nan'))\n",
        "        psnrs_per_epoch.append(float('nan'))\n",
        "\n",
        "    torch.save({\n",
        "        'epoch': epoch,\n",
        "        'model_state_dict': model.state_dict(),\n",
        "        'optimizer_state_dict': optimizer.state_dict(),\n",
        "        'losses_per_epoch': losses_per_epoch,\n",
        "        'psnrs_per_epoch': psnrs_per_epoch,\n",
        "    }, checkpoint_path_diffusion)\n",
        "    print(f\"Diffusion checkpoint saved at epoch {epoch+1}\")\n",
        "\n",
        "    # Plotting with shape alignment\n",
        "    clear_output(wait=True)\n",
        "    plt.figure(figsize=(10, 4))\n",
        "    plt.subplot(1, 2, 1)\n",
        "    x_range = range(1, len(losses_per_epoch) + 1)  # Dynamic range based on data length\n",
        "    plt.plot(x_range, losses_per_epoch, label='MSE Loss')\n",
        "    plt.xlabel(\"Epoch\")\n",
        "    plt.ylabel(\"Loss\")\n",
        "    plt.title(\"Loss vs Epoch\")\n",
        "    plt.grid(True)\n",
        "    plt.subplot(1, 2, 2)\n",
        "    plt.plot(x_range, psnrs_per_epoch, label='PSNR (dB)', color='orange')\n",
        "    plt.xlabel(\"Epoch\")\n",
        "    plt.ylabel(\"PSNR\")\n",
        "    plt.title(\"PSNR vs Epoch\")\n",
        "    plt.grid(True)\n",
        "    plt.tight_layout()\n",
        "    plt.show()"
      ]
    },
    {
      "cell_type": "code",
      "execution_count": 13,
      "id": "0aee518c",
      "metadata": {
        "id": "0aee518c",
        "outputId": "9e929717-8017-4a24-9cc7-cb6821fc9228",
        "colab": {
          "base_uri": "https://localhost:8080/"
        }
      },
      "outputs": [
        {
          "output_type": "execute_result",
          "data": {
            "text/plain": [
              "DigitClassifier(\n",
              "  (fc): Sequential(\n",
              "    (0): Flatten(start_dim=1, end_dim=-1)\n",
              "    (1): Linear(in_features=784, out_features=128, bias=True)\n",
              "    (2): ReLU()\n",
              "    (3): Linear(in_features=128, out_features=10, bias=True)\n",
              "  )\n",
              ")"
            ]
          },
          "metadata": {},
          "execution_count": 13
        }
      ],
      "source": [
        "# Test Trained Diffusion Model\n",
        "checkpoint_path_diffusion = \"checkpoint_diffusion.pth\"\n",
        "checkpoint = torch.load(checkpoint_path_diffusion)\n",
        "model = UNet().to(device)\n",
        "model.load_state_dict(checkpoint['model_state_dict'])\n",
        "model.eval()\n",
        "\n",
        "# Load pre-trained classifier\n",
        "checkpoint_classifier = torch.load(\"checkpoint_classifier.pth\")\n",
        "classifier = DigitClassifier().to(device)\n",
        "classifier.load_state_dict(checkpoint_classifier['classifier_state_dict'])\n",
        "classifier.eval()\n"
      ]
    },
    {
      "cell_type": "code",
      "execution_count": null,
      "id": "77d3780e",
      "metadata": {
        "id": "77d3780e"
      },
      "outputs": [],
      "source": [
        "\n",
        "@torch.no_grad()\n",
        "def sample(model, n_samples=64, img_size=28, channels=1, label=None):\n",
        "    if label is None:\n",
        "        labels = torch.randint(0, 10, (n_samples,)).to(device)  # Generate with specific labels\n",
        "    else:\n",
        "        labels = torch.full((n_samples,), label, device=device)\n",
        "    labels_one_hot = F.one_hot(labels, num_classes=10).float()\n",
        "    x = torch.randn((n_samples, channels, img_size, img_size)).to(device)\n",
        "    for t in reversed(range(1, T)):\n",
        "        t_batch = torch.full((n_samples,), t, device=device, dtype=torch.long)\n",
        "        beta_t = betas[t].to(device)\n",
        "        sqrt_one_minus_alphas_cumprod_t = sqrt_one_minus_alphas_cumprod[t].to(device)\n",
        "        sqrt_recip_alpha_t = (1.0 / torch.sqrt(alphas[t])).to(device)\n",
        "        epsilon_theta = model(x, t_batch.float(), labels_one_hot)\n",
        "        model_mean = sqrt_recip_alpha_t * (x - beta_t * epsilon_theta / sqrt_one_minus_alphas_cumprod_t)\n",
        "        if t > 1:\n",
        "            noise = torch.randn_like(x).to(device)\n",
        "            sigma_t = torch.sqrt(beta_t)\n",
        "            x = model_mean + sigma_t * noise\n",
        "        else:\n",
        "            x = model_mean\n",
        "    x = torch.clamp(x, -1, 1)\n",
        "    return x * 0.5 + 0.5, labels  # Return samples and their intended labels"
      ]
    },
    {
      "cell_type": "code",
      "execution_count": null,
      "id": "3653bd46",
      "metadata": {
        "id": "3653bd46",
        "outputId": "2831c342-bf6b-414d-8d7b-fee82079a897"
      },
      "outputs": [
        {
          "name": "stdout",
          "output_type": "stream",
          "text": [
            "Overall Accuracy of generated digits: 73.00%\n"
          ]
        }
      ],
      "source": [
        "# Generate and evaluate samples for each digit (0-9)\n",
        "total_correct, total_samples = 0, 0\n",
        "all_samples = []\n",
        "all_predicted = []\n",
        "all_true = []\n",
        "\n",
        "for digit in range(10):\n",
        "    samples, true_labels = sample(model, n_samples=10, label=digit)  # 10 samples per digit\n",
        "    flat_samples = samples.view(10, -1)\n",
        "    pred_labels = classifier(flat_samples)\n",
        "    _, predicted = torch.max(pred_labels, 1)\n",
        "    correct = (predicted == true_labels).sum().item()\n",
        "    total_correct += correct\n",
        "    total_samples += 10\n",
        "    all_samples.append(samples)\n",
        "    all_predicted.extend(predicted.cpu().numpy())\n",
        "    all_true.extend(true_labels.cpu().numpy())\n",
        "\n",
        "accuracy = (total_correct / total_samples) * 100\n",
        "print(f\"Overall Accuracy of generated digits: {accuracy:.2f}%\")"
      ]
    },
    {
      "cell_type": "code",
      "execution_count": null,
      "id": "37cc25d1",
      "metadata": {
        "id": "37cc25d1",
        "outputId": "3918518c-1ee6-499f-ee9e-fd8bbc18100b"
      },
      "outputs": [
        {
          "data": {
            "image/png": "[encoded data removed]",
            "text/plain": [
              "<Figure size 1200x1000 with 20 Axes>"
            ]
          },
          "metadata": {},
          "output_type": "display_data"
        }
      ],
      "source": [
        "\n",
        "# Visualize some samples\n",
        "import numpy as np\n",
        "import matplotlib.pyplot as plt\n",
        "\n",
        "fig, axes = plt.subplots(4, 5, figsize=(12, 10))\n",
        "axes = axes.ravel()\n",
        "for idx in range(20):  # Show 20 samples (2 per digit)\n",
        "    digit_idx = idx // 2\n",
        "    sample_idx = idx % 2\n",
        "    ax = axes[idx]\n",
        "    img = all_samples[digit_idx][sample_idx].cpu().numpy().squeeze()\n",
        "    ax.imshow(img, cmap='gray')\n",
        "    ax.set_title(f\"True: {all_true[idx]}\\nPred: {all_predicted[idx]}\")\n",
        "    ax.axis('off')\n",
        "plt.tight_layout()\n",
        "plt.show()"
      ]
    },
    {
      "cell_type": "code",
      "execution_count": 14,
      "id": "c9c62095",
      "metadata": {
        "id": "c9c62095",
        "outputId": "093367a4-c6ae-4f7d-f3bf-a2fb86bfd3b4",
        "colab": {
          "base_uri": "https://localhost:8080/",
          "height": 370
        }
      },
      "outputs": [
        {
          "output_type": "error",
          "ename": "NameError",
          "evalue": "name 'T' is not defined",
          "traceback": [
            "\u001b[0;31m---------------------------------------------------------------------------\u001b[0m",
            "\u001b[0;31mNameError\u001b[0m                                 Traceback (most recent call last)",
            "\u001b[0;32m/tmp/ipython-input-14-3478180542.py\u001b[0m in \u001b[0;36m<cell line: 0>\u001b[0;34m()\u001b[0m\n\u001b[1;32m      8\u001b[0m \u001b[0;32mwith\u001b[0m \u001b[0mtorch\u001b[0m\u001b[0;34m.\u001b[0m\u001b[0mno_grad\u001b[0m\u001b[0;34m(\u001b[0m\u001b[0;34m)\u001b[0m\u001b[0;34m:\u001b[0m\u001b[0;34m\u001b[0m\u001b[0;34m\u001b[0m\u001b[0m\n\u001b[1;32m      9\u001b[0m     \u001b[0;32mfor\u001b[0m \u001b[0mdigit\u001b[0m \u001b[0;32min\u001b[0m \u001b[0mrange\u001b[0m\u001b[0;34m(\u001b[0m\u001b[0;36m10\u001b[0m\u001b[0;34m)\u001b[0m\u001b[0;34m:\u001b[0m\u001b[0;34m\u001b[0m\u001b[0;34m\u001b[0m\u001b[0m\n\u001b[0;32m---> 10\u001b[0;31m         \u001b[0msamples\u001b[0m\u001b[0;34m,\u001b[0m \u001b[0mtrue_labels\u001b[0m \u001b[0;34m=\u001b[0m \u001b[0msample\u001b[0m\u001b[0;34m(\u001b[0m\u001b[0mmodel\u001b[0m\u001b[0;34m,\u001b[0m \u001b[0mn_samples\u001b[0m\u001b[0;34m=\u001b[0m\u001b[0;36m10\u001b[0m\u001b[0;34m,\u001b[0m \u001b[0mlabel\u001b[0m\u001b[0;34m=\u001b[0m\u001b[0mdigit\u001b[0m\u001b[0;34m)\u001b[0m  \u001b[0;31m# 10 samples per digit\u001b[0m\u001b[0;34m\u001b[0m\u001b[0;34m\u001b[0m\u001b[0m\n\u001b[0m\u001b[1;32m     11\u001b[0m         \u001b[0mflat_samples\u001b[0m \u001b[0;34m=\u001b[0m \u001b[0msamples\u001b[0m\u001b[0;34m.\u001b[0m\u001b[0mview\u001b[0m\u001b[0;34m(\u001b[0m\u001b[0;36m10\u001b[0m\u001b[0;34m,\u001b[0m \u001b[0;34m-\u001b[0m\u001b[0;36m1\u001b[0m\u001b[0;34m)\u001b[0m\u001b[0;34m\u001b[0m\u001b[0;34m\u001b[0m\u001b[0m\n\u001b[1;32m     12\u001b[0m         \u001b[0mpred_labels\u001b[0m \u001b[0;34m=\u001b[0m \u001b[0mclassifier\u001b[0m\u001b[0;34m(\u001b[0m\u001b[0mflat_samples\u001b[0m\u001b[0;34m)\u001b[0m  \u001b[0;31m# Logits (10, 10)\u001b[0m\u001b[0;34m\u001b[0m\u001b[0;34m\u001b[0m\u001b[0m\n",
            "\u001b[0;32m/usr/local/lib/python3.11/dist-packages/torch/utils/_contextlib.py\u001b[0m in \u001b[0;36mdecorate_context\u001b[0;34m(*args, **kwargs)\u001b[0m\n\u001b[1;32m    114\u001b[0m     \u001b[0;32mdef\u001b[0m \u001b[0mdecorate_context\u001b[0m\u001b[0;34m(\u001b[0m\u001b[0;34m*\u001b[0m\u001b[0margs\u001b[0m\u001b[0;34m,\u001b[0m \u001b[0;34m**\u001b[0m\u001b[0mkwargs\u001b[0m\u001b[0;34m)\u001b[0m\u001b[0;34m:\u001b[0m\u001b[0;34m\u001b[0m\u001b[0;34m\u001b[0m\u001b[0m\n\u001b[1;32m    115\u001b[0m         \u001b[0;32mwith\u001b[0m \u001b[0mctx_factory\u001b[0m\u001b[0;34m(\u001b[0m\u001b[0;34m)\u001b[0m\u001b[0;34m:\u001b[0m\u001b[0;34m\u001b[0m\u001b[0;34m\u001b[0m\u001b[0m\n\u001b[0;32m--> 116\u001b[0;31m             \u001b[0;32mreturn\u001b[0m \u001b[0mfunc\u001b[0m\u001b[0;34m(\u001b[0m\u001b[0;34m*\u001b[0m\u001b[0margs\u001b[0m\u001b[0;34m,\u001b[0m \u001b[0;34m**\u001b[0m\u001b[0mkwargs\u001b[0m\u001b[0;34m)\u001b[0m\u001b[0;34m\u001b[0m\u001b[0;34m\u001b[0m\u001b[0m\n\u001b[0m\u001b[1;32m    117\u001b[0m \u001b[0;34m\u001b[0m\u001b[0m\n\u001b[1;32m    118\u001b[0m     \u001b[0;32mreturn\u001b[0m \u001b[0mdecorate_context\u001b[0m\u001b[0;34m\u001b[0m\u001b[0;34m\u001b[0m\u001b[0m\n",
            "\u001b[0;32m/tmp/ipython-input-11-1312417916.py\u001b[0m in \u001b[0;36msample\u001b[0;34m(model, n_samples, img_size, channels, label)\u001b[0m\n\u001b[1;32m     40\u001b[0m     \u001b[0mlabels_one_hot\u001b[0m \u001b[0;34m=\u001b[0m \u001b[0mF\u001b[0m\u001b[0;34m.\u001b[0m\u001b[0mone_hot\u001b[0m\u001b[0;34m(\u001b[0m\u001b[0mlabels\u001b[0m\u001b[0;34m,\u001b[0m \u001b[0mnum_classes\u001b[0m\u001b[0;34m=\u001b[0m\u001b[0;36m10\u001b[0m\u001b[0;34m)\u001b[0m\u001b[0;34m.\u001b[0m\u001b[0mfloat\u001b[0m\u001b[0;34m(\u001b[0m\u001b[0;34m)\u001b[0m\u001b[0;34m\u001b[0m\u001b[0;34m\u001b[0m\u001b[0m\n\u001b[1;32m     41\u001b[0m     \u001b[0mx\u001b[0m \u001b[0;34m=\u001b[0m \u001b[0mtorch\u001b[0m\u001b[0;34m.\u001b[0m\u001b[0mrandn\u001b[0m\u001b[0;34m(\u001b[0m\u001b[0;34m(\u001b[0m\u001b[0mn_samples\u001b[0m\u001b[0;34m,\u001b[0m \u001b[0mchannels\u001b[0m\u001b[0;34m,\u001b[0m \u001b[0mimg_size\u001b[0m\u001b[0;34m,\u001b[0m \u001b[0mimg_size\u001b[0m\u001b[0;34m)\u001b[0m\u001b[0;34m)\u001b[0m\u001b[0;34m.\u001b[0m\u001b[0mto\u001b[0m\u001b[0;34m(\u001b[0m\u001b[0mdevice\u001b[0m\u001b[0;34m)\u001b[0m\u001b[0;34m\u001b[0m\u001b[0;34m\u001b[0m\u001b[0m\n\u001b[0;32m---> 42\u001b[0;31m     \u001b[0;32mfor\u001b[0m \u001b[0mt\u001b[0m \u001b[0;32min\u001b[0m \u001b[0mreversed\u001b[0m\u001b[0;34m(\u001b[0m\u001b[0mrange\u001b[0m\u001b[0;34m(\u001b[0m\u001b[0;36m1\u001b[0m\u001b[0;34m,\u001b[0m \u001b[0mT\u001b[0m\u001b[0;34m)\u001b[0m\u001b[0;34m)\u001b[0m\u001b[0;34m:\u001b[0m\u001b[0;34m\u001b[0m\u001b[0;34m\u001b[0m\u001b[0m\n\u001b[0m\u001b[1;32m     43\u001b[0m         \u001b[0mt_batch\u001b[0m \u001b[0;34m=\u001b[0m \u001b[0mtorch\u001b[0m\u001b[0;34m.\u001b[0m\u001b[0mfull\u001b[0m\u001b[0;34m(\u001b[0m\u001b[0;34m(\u001b[0m\u001b[0mn_samples\u001b[0m\u001b[0;34m,\u001b[0m\u001b[0;34m)\u001b[0m\u001b[0;34m,\u001b[0m \u001b[0mt\u001b[0m\u001b[0;34m,\u001b[0m \u001b[0mdevice\u001b[0m\u001b[0;34m=\u001b[0m\u001b[0mdevice\u001b[0m\u001b[0;34m,\u001b[0m \u001b[0mdtype\u001b[0m\u001b[0;34m=\u001b[0m\u001b[0mtorch\u001b[0m\u001b[0;34m.\u001b[0m\u001b[0mlong\u001b[0m\u001b[0;34m)\u001b[0m\u001b[0;34m\u001b[0m\u001b[0;34m\u001b[0m\u001b[0m\n\u001b[1;32m     44\u001b[0m         \u001b[0mbeta_t\u001b[0m \u001b[0;34m=\u001b[0m \u001b[0mbetas\u001b[0m\u001b[0;34m[\u001b[0m\u001b[0mt\u001b[0m\u001b[0;34m]\u001b[0m\u001b[0;34m.\u001b[0m\u001b[0mto\u001b[0m\u001b[0;34m(\u001b[0m\u001b[0mdevice\u001b[0m\u001b[0;34m)\u001b[0m\u001b[0;34m\u001b[0m\u001b[0;34m\u001b[0m\u001b[0m\n",
            "\u001b[0;31mNameError\u001b[0m: name 'T' is not defined"
          ]
        }
      ],
      "source": [
        "# Generate and evaluate samples for each digit (0-9)\n",
        "total_correct, total_samples = 0, 0\n",
        "all_samples = []\n",
        "all_predicted = []\n",
        "all_true = []\n",
        "all_logits = []  # To debug classifier output\n",
        "\n",
        "with torch.no_grad():\n",
        "    for digit in range(10):\n",
        "        samples, true_labels = sample(model, n_samples=10, label=digit)  # 10 samples per digit\n",
        "        flat_samples = samples.view(10, -1)\n",
        "        pred_labels = classifier(flat_samples)  # Logits (10, 10)\n",
        "        _, predicted = torch.max(pred_labels, 1)\n",
        "        correct = (predicted == true_labels).sum().item()\n",
        "        total_correct += correct\n",
        "        total_samples += 10\n",
        "        all_samples.append(samples)\n",
        "        all_predicted.extend(predicted.cpu().numpy())\n",
        "        all_true.extend(true_labels.cpu().numpy())\n",
        "        all_logits.append(pred_labels.detach().cpu().numpy())  # Store raw logits for debugging\n",
        "\n",
        "accuracy = total_correct / total_samples * 100\n",
        "print(f\"Overall Accuracy of generated digits: {accuracy:.2f}%\")\n",
        "print(f\"Raw logits shapes: {[logit.shape for logit in all_logits]}\")  # Debug logits shape\n",
        "print(f\"Sample predicted values: {all_predicted[:20]}\")  # Check first 20 predictions\n",
        "\n"
      ]
    },
    {
      "cell_type": "code",
      "execution_count": null,
      "id": "d488d042",
      "metadata": {
        "id": "d488d042",
        "outputId": "c936d711-9b66-4f02-c35d-279f075bd443"
      },
      "outputs": [
        {
          "data": {
            "image/png": "[encoded data removed]",
            "text/plain": [
              "<Figure size 1200x1000 with 20 Axes>"
            ]
          },
          "metadata": {},
          "output_type": "display_data"
        }
      ],
      "source": [
        "# Visualize some samples\n",
        "import numpy as np\n",
        "import matplotlib.pyplot as plt\n",
        "\n",
        "fig, axes = plt.subplots(4, 5, figsize=(12, 10))\n",
        "axes = axes.ravel()\n",
        "for idx in range(20):  # Show 20 samples (2 per digit)\n",
        "    digit_idx = idx // 2\n",
        "    sample_idx = idx % 2\n",
        "    ax = axes[idx]\n",
        "    img = all_samples[digit_idx][sample_idx].cpu().numpy().squeeze()\n",
        "    ax.imshow(img, cmap='gray')\n",
        "    ax.set_title(f\"True: {all_true[idx]}\\nPred: {all_predicted[idx]}\")\n",
        "    ax.axis('off')\n",
        "plt.tight_layout()\n",
        "plt.show()"
      ]
    },
    {
      "cell_type": "code",
      "execution_count": 17,
      "id": "df72bb46",
      "metadata": {
        "id": "df72bb46",
        "outputId": "1f86d7fd-2ef0-4c9c-a602-e5abe5c33f66",
        "colab": {
          "base_uri": "https://localhost:8080/"
        }
      },
      "outputs": [
        {
          "output_type": "stream",
          "name": "stdout",
          "text": [
            "Loading MNIST test dataset...\n",
            "Loaded 10000 test samples. Starting evaluation...\n",
            "Loading diffusion model checkpoint...\n",
            "Diffusion model loaded successfully.\n",
            "Loading classifier checkpoint...\n",
            "Classifier loaded successfully.\n"
          ]
        }
      ],
      "source": [
        "# Test Trained Diffusion Model on MNIST Test Dataset\n",
        "import torch\n",
        "from torch.utils.data import DataLoader\n",
        "from torchvision import datasets, transforms\n",
        "\n",
        "# Load MNIST test dataset with feedback\n",
        "print(\"Loading MNIST test dataset...\")\n",
        "transform = transforms.Compose([transforms.ToTensor(), transforms.Normalize((0.1307,), (0.3081,))])\n",
        "test_dataset = datasets.MNIST(root='./data', train=False, download=True, transform=transform)\n",
        "test_dataloader = DataLoader(test_dataset, batch_size=64, shuffle=False)\n",
        "print(f\"Loaded {len(test_dataset)} test samples. Starting evaluation...\")\n",
        "\n",
        "checkpoint_path_diffusion = \"checkpoint_diffusion.pth\"\n",
        "print(\"Loading diffusion model checkpoint...\")\n",
        "checkpoint = torch.load(checkpoint_path_diffusion)\n",
        "model = UNet().to(device)\n",
        "model.load_state_dict(checkpoint['model_state_dict'])\n",
        "model.eval()\n",
        "print(\"Diffusion model loaded successfully.\")\n",
        "\n",
        "# Load pre-trained classifier\n",
        "print(\"Loading classifier checkpoint...\")\n",
        "checkpoint_classifier = torch.load(\"checkpoint_classifier.pth\")\n",
        "classifier = DigitClassifier().to(device)\n",
        "classifier.load_state_dict(checkpoint_classifier['classifier_state_dict'])\n",
        "classifier.eval()\n",
        "print(\"Classifier loaded successfully.\")"
      ]
    },
    {
      "cell_type": "code",
      "execution_count": 18,
      "id": "ea1c6b80",
      "metadata": {
        "id": "ea1c6b80"
      },
      "outputs": [],
      "source": [
        "@torch.no_grad()\n",
        "def sample(model, x, labels, img_size=28, channels=1):\n",
        "    print(f\"Sampling batch with shape {x.shape} and {len(labels)} labels...\")\n",
        "    labels_one_hot = F.one_hot(labels, num_classes=10).float().to(device)\n",
        "    x_noisy = x.clone().to(device)\n",
        "    for t in reversed(range(1, T)):\n",
        "        if t % 100 == 0:  # Feedback every 100 steps\n",
        "            print(f\"  Denoising step {t}...\")\n",
        "        t_batch = torch.full((x.shape[0],), t, device=device, dtype=torch.long)\n",
        "        beta_t = betas[t].to(device)\n",
        "        sqrt_one_minus_alphas_cumprod_t = sqrt_one_minus_alphas_cumprod[t].to(device)\n",
        "        sqrt_recip_alpha_t = (1.0 / torch.sqrt(alphas[t])).to(device)\n",
        "        epsilon_theta = model(x_noisy, t_batch.float(), labels_one_hot)\n",
        "        model_mean = sqrt_recip_alpha_t * (x_noisy - beta_t * epsilon_theta / sqrt_one_minus_alphas_cumprod_t)\n",
        "        if t > 1:\n",
        "            noise = torch.randn_like(x_noisy).to(device)\n",
        "            sigma_t = torch.sqrt(beta_t)\n",
        "            x_noisy = model_mean + sigma_t * noise\n",
        "        else:\n",
        "            x_noisy = model_mean\n",
        "    x_noisy = torch.clamp(x_noisy, -1, 1)\n",
        "    print(f\"Sampling complete for batch. Output shape: {x_noisy.shape}\")\n",
        "    return x_noisy * 0.5 + 0.5  # Unnormalize to [0, 1]\n",
        "\n",
        "# Evaluate on test dataset with progress bar\n",
        "total_correct, total_samples = 0, 0\n",
        "all_samples = []\n",
        "all_predicted = []\n",
        "all_true = []"
      ]
    },
    {
      "cell_type": "code",
      "execution_count": 22,
      "id": "989cefdc",
      "metadata": {
        "id": "989cefdc",
        "outputId": "4481f998-678d-4e98-9256-16ca72a7116a",
        "colab": {
          "base_uri": "https://localhost:8080/",
          "height": 1000
        }
      },
      "outputs": [
        {
          "output_type": "stream",
          "name": "stdout",
          "text": [
            "Loading diffusion model checkpoint...\n",
            "Diffusion model loaded successfully.\n",
            "Loading classifier checkpoint...\n",
            "Classifier loaded successfully.\n",
            "Enter a digit (0-9) to generate, or -1 to exit: 1\n",
            "Generating image for digit 1...\n",
            "  Denoising step 900...\n",
            "  Denoising step 800...\n",
            "  Denoising step 700...\n",
            "  Denoising step 600...\n",
            "  Denoising step 500...\n",
            "  Denoising step 400...\n",
            "  Denoising step 300...\n",
            "  Denoising step 200...\n",
            "  Denoising step 100...\n",
            "Sampling complete. Output shape: torch.Size([1, 1, 28, 28])\n",
            "Predicted label: 1\n"
          ]
        },
        {
          "output_type": "display_data",
          "data": {
            "text/plain": [
              "<Figure size 400x400 with 1 Axes>"
            ],
            "image/png": "[encoded data removed]"
          },
          "metadata": {}
        },
        {
          "output_type": "stream",
          "name": "stdout",
          "text": [
            "Enter a digit (0-9) to generate, or -1 to exit: 2\n",
            "Generating image for digit 2...\n",
            "  Denoising step 900...\n",
            "  Denoising step 800...\n",
            "  Denoising step 700...\n",
            "  Denoising step 600...\n",
            "  Denoising step 500...\n",
            "  Denoising step 400...\n",
            "  Denoising step 300...\n",
            "  Denoising step 200...\n",
            "  Denoising step 100...\n",
            "Sampling complete. Output shape: torch.Size([1, 1, 28, 28])\n",
            "Predicted label: 2\n"
          ]
        },
        {
          "output_type": "display_data",
          "data": {
            "text/plain": [
              "<Figure size 400x400 with 1 Axes>"
            ],
            "image/png": "[encoded data removed]"
          },
          "metadata": {}
        },
        {
          "output_type": "stream",
          "name": "stdout",
          "text": [
            "Enter a digit (0-9) to generate, or -1 to exit: 3\n",
            "Generating image for digit 3...\n",
            "  Denoising step 900...\n",
            "  Denoising step 800...\n",
            "  Denoising step 700...\n",
            "  Denoising step 600...\n",
            "  Denoising step 500...\n",
            "  Denoising step 400...\n",
            "  Denoising step 300...\n",
            "  Denoising step 200...\n",
            "  Denoising step 100...\n",
            "Sampling complete. Output shape: torch.Size([1, 1, 28, 28])\n",
            "Predicted label: 3\n"
          ]
        },
        {
          "output_type": "display_data",
          "data": {
            "text/plain": [
              "<Figure size 400x400 with 1 Axes>"
            ],
            "image/png": "[encoded data removed]"
          },
          "metadata": {}
        },
        {
          "output_type": "stream",
          "name": "stdout",
          "text": [
            "Enter a digit (0-9) to generate, or -1 to exit: 4\n",
            "Generating image for digit 4...\n",
            "  Denoising step 900...\n",
            "  Denoising step 800...\n",
            "  Denoising step 700...\n",
            "  Denoising step 600...\n",
            "  Denoising step 500...\n",
            "  Denoising step 400...\n",
            "  Denoising step 300...\n",
            "  Denoising step 200...\n",
            "  Denoising step 100...\n",
            "Sampling complete. Output shape: torch.Size([1, 1, 28, 28])\n",
            "Predicted label: 9\n"
          ]
        },
        {
          "output_type": "display_data",
          "data": {
            "text/plain": [
              "<Figure size 400x400 with 1 Axes>"
            ],
            "image/png": "[encoded data removed]"
          },
          "metadata": {}
        },
        {
          "output_type": "stream",
          "name": "stdout",
          "text": [
            "Enter a digit (0-9) to generate, or -1 to exit: 5\n",
            "Generating image for digit 5...\n",
            "  Denoising step 900...\n",
            "  Denoising step 800...\n",
            "  Denoising step 700...\n",
            "  Denoising step 600...\n",
            "  Denoising step 500...\n",
            "  Denoising step 400...\n",
            "  Denoising step 300...\n",
            "  Denoising step 200...\n",
            "  Denoising step 100...\n",
            "Sampling complete. Output shape: torch.Size([1, 1, 28, 28])\n",
            "Predicted label: 5\n"
          ]
        },
        {
          "output_type": "display_data",
          "data": {
            "text/plain": [
              "<Figure size 400x400 with 1 Axes>"
            ],
            "image/png": "[encoded data removed]"
          },
          "metadata": {}
        },
        {
          "output_type": "stream",
          "name": "stdout",
          "text": [
            "Enter a digit (0-9) to generate, or -1 to exit: 6\n",
            "Generating image for digit 6...\n",
            "  Denoising step 900...\n",
            "  Denoising step 800...\n",
            "  Denoising step 700...\n",
            "  Denoising step 600...\n",
            "  Denoising step 500...\n",
            "  Denoising step 400...\n",
            "  Denoising step 300...\n",
            "  Denoising step 200...\n",
            "  Denoising step 100...\n",
            "Sampling complete. Output shape: torch.Size([1, 1, 28, 28])\n",
            "Predicted label: 6\n"
          ]
        },
        {
          "output_type": "display_data",
          "data": {
            "text/plain": [
              "<Figure size 400x400 with 1 Axes>"
            ],
            "image/png": "[encoded data removed]"
          },
          "metadata": {}
        },
        {
          "output_type": "stream",
          "name": "stdout",
          "text": [
            "Enter a digit (0-9) to generate, or -1 to exit: 7\n",
            "Generating image for digit 7...\n",
            "  Denoising step 900...\n",
            "  Denoising step 800...\n",
            "  Denoising step 700...\n",
            "  Denoising step 600...\n",
            "  Denoising step 500...\n",
            "  Denoising step 400...\n",
            "  Denoising step 300...\n",
            "  Denoising step 200...\n",
            "  Denoising step 100...\n",
            "Sampling complete. Output shape: torch.Size([1, 1, 28, 28])\n",
            "Predicted label: 7\n"
          ]
        },
        {
          "output_type": "display_data",
          "data": {
            "text/plain": [
              "<Figure size 400x400 with 1 Axes>"
            ],
            "image/png": "[encoded data removed]"
          },
          "metadata": {}
        },
        {
          "output_type": "stream",
          "name": "stdout",
          "text": [
            "Enter a digit (0-9) to generate, or -1 to exit: 8\n",
            "Generating image for digit 8...\n",
            "  Denoising step 900...\n",
            "  Denoising step 800...\n",
            "  Denoising step 700...\n",
            "  Denoising step 600...\n",
            "  Denoising step 500...\n",
            "  Denoising step 400...\n",
            "  Denoising step 300...\n",
            "  Denoising step 200...\n",
            "  Denoising step 100...\n",
            "Sampling complete. Output shape: torch.Size([1, 1, 28, 28])\n",
            "Predicted label: 8\n"
          ]
        },
        {
          "output_type": "display_data",
          "data": {
            "text/plain": [
              "<Figure size 400x400 with 1 Axes>"
            ],
            "image/png": "[encoded data removed]"
          },
          "metadata": {}
        },
        {
          "output_type": "stream",
          "name": "stdout",
          "text": [
            "Enter a digit (0-9) to generate, or -1 to exit: 9\n",
            "Generating image for digit 9...\n",
            "  Denoising step 900...\n",
            "  Denoising step 800...\n",
            "  Denoising step 700...\n",
            "  Denoising step 600...\n",
            "  Denoising step 500...\n",
            "  Denoising step 400...\n",
            "  Denoising step 300...\n",
            "  Denoising step 200...\n",
            "  Denoising step 100...\n",
            "Sampling complete. Output shape: torch.Size([1, 1, 28, 28])\n",
            "Predicted label: 9\n"
          ]
        },
        {
          "output_type": "display_data",
          "data": {
            "text/plain": [
              "<Figure size 400x400 with 1 Axes>"
            ],
            "image/png": "[encoded data removed]"
          },
          "metadata": {}
        },
        {
          "output_type": "stream",
          "name": "stdout",
          "text": [
            "Enter a digit (0-9) to generate, or -1 to exit: 0\n",
            "Generating image for digit 0...\n",
            "  Denoising step 900...\n",
            "  Denoising step 800...\n",
            "  Denoising step 700...\n",
            "  Denoising step 600...\n",
            "  Denoising step 500...\n",
            "  Denoising step 400...\n",
            "  Denoising step 300...\n",
            "  Denoising step 200...\n",
            "  Denoising step 100...\n",
            "Sampling complete. Output shape: torch.Size([1, 1, 28, 28])\n",
            "Predicted label: 0\n"
          ]
        },
        {
          "output_type": "display_data",
          "data": {
            "text/plain": [
              "<Figure size 400x400 with 1 Axes>"
            ],
            "image/png": "[encoded data removed]"
          },
          "metadata": {}
        },
        {
          "output_type": "stream",
          "name": "stdout",
          "text": [
            "Enter a digit (0-9) to generate, or -1 to exit: -1\n",
            "Exiting generator. Goodbye bro! 🚀\n"
          ]
        }
      ],
      "source": [
        "# Generate Digit Image from User Input\n",
        "checkpoint_path_diffusion = \"checkpoint_diffusion.pth\"\n",
        "print(\"Loading diffusion model checkpoint...\")\n",
        "checkpoint = torch.load(checkpoint_path_diffusion)\n",
        "model = UNet().to(device)\n",
        "model.load_state_dict(checkpoint['model_state_dict'])\n",
        "model.eval()\n",
        "print(\"Diffusion model loaded successfully.\")\n",
        "\n",
        "# Load pre-trained classifier\n",
        "print(\"Loading classifier checkpoint...\")\n",
        "checkpoint_classifier = torch.load(\"checkpoint_classifier.pth\")\n",
        "classifier = DigitClassifier().to(device)\n",
        "classifier.load_state_dict(checkpoint_classifier['classifier_state_dict'])\n",
        "classifier.eval()\n",
        "print(\"Classifier loaded successfully.\")\n",
        "\n",
        "@torch.no_grad()\n",
        "def sample_digit(model, digit, img_size=28, channels=1):\n",
        "    print(f\"Generating image for digit {digit}...\")\n",
        "    label = torch.tensor([digit], device=device)\n",
        "    labels_one_hot = F.one_hot(label, num_classes=10).float()\n",
        "    x = torch.randn((1, channels, img_size, img_size)).to(device)  # Single sample\n",
        "    for t in reversed(range(1, T)):\n",
        "        if t % 100 == 0:\n",
        "            print(f\"  Denoising step {t}...\")\n",
        "        t_batch = torch.full((1,), t, device=device, dtype=torch.long)\n",
        "        beta_t = betas[t].to(device)\n",
        "        sqrt_one_minus_alphas_cumprod_t = sqrt_one_minus_alphas_cumprod[t].to(device)\n",
        "        sqrt_recip_alpha_t = (1.0 / torch.sqrt(alphas[t])).to(device)\n",
        "        epsilon_theta = model(x, t_batch.float(), labels_one_hot)\n",
        "        model_mean = sqrt_recip_alpha_t * (x - beta_t * epsilon_theta / sqrt_one_minus_alphas_cumprod_t)\n",
        "        if t > 1:\n",
        "            noise = torch.randn_like(x).to(device)\n",
        "            sigma_t = torch.sqrt(beta_t)\n",
        "            x = model_mean + sigma_t * noise\n",
        "        else:\n",
        "            x = model_mean\n",
        "    x = torch.clamp(x, -1, 1)\n",
        "    print(f\"Sampling complete. Output shape: {x.shape}\")\n",
        "    return x * 0.5 + 0.5  # Unnormalize to [0, 1]\n",
        "\n",
        "# Get user input and generate\n",
        "while True:\n",
        "    try:\n",
        "        user_input = int(input(\"Enter a digit (0-9) to generate, or -1 to exit: \"))\n",
        "        if user_input == -1:\n",
        "            print(\"Exiting generator. Goodbye bro! 🚀\")\n",
        "            break\n",
        "        elif 0 <= user_input <= 9:\n",
        "            sample = sample_digit(model, user_input)\n",
        "            flat_sample = sample.view(1, -1)\n",
        "            pred_labels = classifier(flat_sample)\n",
        "            _, predicted = torch.max(pred_labels, 1)\n",
        "            print(f\"Predicted label: {predicted.item()}\")\n",
        "\n",
        "            plt.figure(figsize=(4, 4))\n",
        "            plt.imshow(sample[0].cpu().numpy().squeeze(), cmap='gray')\n",
        "            plt.title(f\"Generated Digit: {user_input}\\nPredicted: {predicted.item()}\")\n",
        "            plt.axis('off')\n",
        "            plt.show()\n",
        "        else:\n",
        "            print(\"Please enter a digit between 0 and 9, or -1 to exit.\")\n",
        "    except ValueError:\n",
        "        print(\"Invalid input! Please enter a number between 0 and 9, or -1 to exit.\")\n"
      ]
    }
  ],
  "metadata": {
    "kernelspec": {
      "display_name": "Python 3",
      "name": "python3"
    },
    "language_info": {
      "codemirror_mode": {
        "name": "ipython",
        "version": 3
      },
      "file_extension": ".py",
      "mimetype": "text/x-python",
      "name": "python",
      "nbconvert_exporter": "python",
      "pygments_lexer": "ipython3",
      "version": "3.10.12"
    },
    "colab": {
      "provenance": [],
      "gpuType": "T4"
    },
    "accelerator": "GPU"
  },
  "nbformat": 4,
  "nbformat_minor": 5
}