{
 "cells": [
  {
   "cell_type": "code",
   "execution_count": 4,
   "id": "5660cfef",
   "metadata": {},
   "outputs": [],
   "source": [
    "import torch\n",
    "import torch.nn as nn\n",
    "import torch.nn.functional as F\n",
    "from torch.cuda.amp import GradScaler, autocast\n",
    "from torchvision import datasets, transforms\n",
    "from torch.utils.data import DataLoader\n",
    "import tqdm\n",
    "import matplotlib.pyplot as plt\n",
    "from IPython.display import clear_output"
   ]
  },
  {
   "cell_type": "code",
   "execution_count": 5,
   "id": "74fd52d2",
   "metadata": {},
   "outputs": [
    {
     "name": "stdout",
     "output_type": "stream",
     "text": [
      "Using device: NVIDIA GeForce RTX 3050 Laptop GPU\n"
     ]
    }
   ],
   "source": [
    "# Set up device and optimizations\n",
    "torch.backends.cudnn.benchmark = True\n",
    "device = torch.device('cuda' if torch.cuda.is_available() else 'cpu')\n",
    "print(f\"Using device: {torch.cuda.get_device_name(0)}\")"
   ]
  },
  {
   "cell_type": "code",
   "execution_count": 3,
   "id": "05cae89f",
   "metadata": {},
   "outputs": [
    {
     "name": "stdout",
     "output_type": "stream",
     "text": [
      "Total training images: 60000\n"
     ]
    }
   ],
   "source": [
    "# Load MNIST dataset\n",
    "transform = transforms.Compose([transforms.ToTensor(), transforms.Normalize((0.5,), (0.5,))])\n",
    "train_dataset = datasets.MNIST(root='./data', train=True, transform=transform, download=True)\n",
    "train_dataloader = DataLoader(train_dataset, batch_size=64, shuffle=True, num_workers=2, pin_memory=True)\n",
    "print(f\"Total training images: {len(train_dataset)}\")"
   ]
  },
  {
   "cell_type": "code",
   "execution_count": 6,
   "id": "83b8e1a8",
   "metadata": {},
   "outputs": [],
   "source": [
    "# Diffusion schedules\n",
    "T = 1000\n",
    "beta_start, beta_end = 1e-4, 0.02\n",
    "betas = torch.linspace(beta_start, beta_end, T).to(device)\n",
    "alphas = 1. - betas\n",
    "alphas_cumprod = torch.cumprod(alphas, dim=0).to(device)\n",
    "sqrt_alphas_cumprod = torch.sqrt(alphas_cumprod).to(device)\n",
    "sqrt_one_minus_alphas_cumprod = torch.sqrt(1 - alphas_cumprod).to(device)"
   ]
  },
  {
   "cell_type": "code",
   "execution_count": 7,
   "id": "67e7ade5",
   "metadata": {},
   "outputs": [],
   "source": [
    "# Forward diffusion function\n",
    "def forward_diffusion_sample(x_0, t, device=device):\n",
    "    noise = torch.randn_like(x_0).to(device)\n",
    "    sqrt_alphas_cumprod_t = sqrt_alphas_cumprod[t][:, None, None, None]\n",
    "    sqrt_one_minus_alphas_cumprod_t = sqrt_one_minus_alphas_cumprod[t][:, None, None, None]\n",
    "    x_t = sqrt_alphas_cumprod_t * x_0 + sqrt_one_minus_alphas_cumprod_t * noise\n",
    "    return x_t, noise"
   ]
  },
  {
   "cell_type": "code",
   "execution_count": 8,
   "id": "dee5a076",
   "metadata": {},
   "outputs": [],
   "source": [
    "import math\n",
    "\n",
    "# Guided UNet model with label conditioning\n",
    "class SinusoidalTimeEmbedding(nn.Module):\n",
    "    def __init__(self, dim):\n",
    "        super().__init__()\n",
    "        self.dim = dim\n",
    "    def forward(self, t):\n",
    "        half_dim = self.dim // 2\n",
    "        emb = math.log(10000) / (half_dim - 1)\n",
    "        emb = torch.exp(torch.arange(half_dim, device=t.device) * -emb)\n",
    "        emb = t[:, None] * emb[None, :]\n",
    "        emb = torch.cat([torch.sin(emb), torch.cos(emb)], dim=1)\n",
    "        if emb.shape[1] < self.dim:\n",
    "            emb = F.pad(emb, (0, self.dim - emb.shape[1]))\n",
    "        return emb\n",
    "\n",
    "class ResidualBlock(nn.Module):\n",
    "    def __init__(self, in_channels, out_channels):\n",
    "        super().__init__()\n",
    "        self.conv1 = nn.Conv2d(in_channels, out_channels, 3, padding=1)\n",
    "        self.conv2 = nn.Conv2d(out_channels, out_channels, 3, padding=1)\n",
    "        self.shortcut = nn.Conv2d(in_channels, out_channels, 1) if in_channels != out_channels else nn.Identity()\n",
    "    def forward(self, x):\n",
    "        identity = x\n",
    "        x = F.relu(self.conv1(x))\n",
    "        x = self.conv2(x)\n",
    "        x += self.shortcut(identity)\n",
    "        return F.relu(x)\n",
    "\n",
    "class UNet(nn.Module):\n",
    "    def __init__(self, time_dim=256, label_dim=10):\n",
    "        super().__init__()\n",
    "        self.time_mlp = nn.Sequential(\n",
    "            SinusoidalTimeEmbedding(time_dim),\n",
    "            nn.Linear(time_dim, time_dim),\n",
    "            nn.ReLU(),\n",
    "            nn.Linear(time_dim, time_dim)\n",
    "        )\n",
    "        self.label_mlp = nn.Sequential(\n",
    "            nn.Linear(label_dim, time_dim),  # Map 10-class one-hot to time_dim\n",
    "            nn.ReLU()\n",
    "        )\n",
    "        self.enc1 = ResidualBlock(1, 64)\n",
    "        self.enc2 = ResidualBlock(64, 128)\n",
    "        self.enc3 = ResidualBlock(128, 256)\n",
    "        self.time_proj1 = nn.Linear(time_dim, 64)\n",
    "        self.time_proj2 = nn.Linear(time_dim, 128)\n",
    "        self.time_proj3 = nn.Linear(time_dim, 256)\n",
    "        self.bottleneck = ResidualBlock(256, 256)\n",
    "        self.dec1 = ResidualBlock(512, 128)  # 256 + 256 from skip\n",
    "        self.dec2 = ResidualBlock(256, 64)   # 128 + 128 from skip\n",
    "        self.dec3 = nn.Conv2d(128, 1, 3, padding=1)  # 64 + 64 from skip\n",
    "\n",
    "    def forward(self, x, t, labels):\n",
    "        t_emb = self.time_mlp(t)\n",
    "        l_emb = self.label_mlp(labels)  # (batch, 10) -> (batch, time_dim)\n",
    "        combined_emb = t_emb + l_emb\n",
    "        x1 = self.enc1(x) + self.time_proj1(combined_emb).unsqueeze(-1).unsqueeze(-1)\n",
    "        x2 = self.enc2(x1) + self.time_proj2(combined_emb).unsqueeze(-1).unsqueeze(-1)\n",
    "        x3 = self.enc3(x2) + self.time_proj3(combined_emb).unsqueeze(-1).unsqueeze(-1)\n",
    "        x = self.bottleneck(x3)\n",
    "        x = self.dec1(torch.cat([x, x3], dim=1))\n",
    "        x = self.dec2(torch.cat([x, x2], dim=1))\n",
    "        x = self.dec3(torch.cat([x, x1], dim=1))\n",
    "        return x"
   ]
  },
  {
   "cell_type": "code",
   "execution_count": 9,
   "id": "abd16143",
   "metadata": {},
   "outputs": [
    {
     "name": "stderr",
     "output_type": "stream",
     "text": [
      "/tmp/ipykernel_1679/1862165192.py:1: FutureWarning: `torch.cuda.amp.GradScaler(args...)` is deprecated. Please use `torch.amp.GradScaler('cuda', args...)` instead.\n",
      "  scaler = GradScaler()\n"
     ]
    }
   ],
   "source": [
    "scaler = GradScaler()\n",
    "epochs = 200\n",
    "checkpoint_path = \"checkpoint_guided.pth\""
   ]
  },
  {
   "cell_type": "code",
   "execution_count": 10,
   "id": "54b79272",
   "metadata": {},
   "outputs": [],
   "source": [
    "import os\n",
    "\n",
    "if os.path.exists(checkpoint_path):\n",
    "    checkpoint = torch.load(checkpoint_path)\n",
    "    model.load_state_dict(checkpoint['model_state_dict'])\n",
    "    optimizer.load_state_dict(checkpoint['optimizer_state_dict'])\n",
    "    start_epoch = checkpoint['epoch'] + 1\n",
    "    losses_per_epoch = checkpoint['losses_per_epoch']\n",
    "    psnrs_per_epoch = checkpoint['psnrs_per_epoch']\n",
    "    accuracies_per_epoch = checkpoint['accuracies_per_epoch']\n",
    "    print(f\"Resumed from epoch {start_epoch}\")\n",
    "else:\n",
    "    start_epoch = 0\n",
    "    losses_per_epoch = []\n",
    "    psnrs_per_epoch = []\n",
    "    accuracies_per_epoch = []"
   ]
  },
  {
   "cell_type": "code",
   "execution_count": 11,
   "id": "32806006",
   "metadata": {},
   "outputs": [],
   "source": [
    "def psnr(pred, target, max_val=1.0):\n",
    "    mse = torch.mean((pred-target) ** 2)\n",
    "    return 20 * torch.log10(max_val / torch.sqrt(mse)) if mse > 0 else float('inf')"
   ]
  },
  {
   "cell_type": "code",
   "execution_count": 12,
   "id": "98ec6e46",
   "metadata": {},
   "outputs": [],
   "source": [
    "# Simple Digit classifier to evaluate accuracy (using a small MLP)\n",
    "class DigitClassifier(nn.Module):\n",
    "    def __init__(self):\n",
    "        super().__init__()\n",
    "        self.fc = nn.Sequential(\n",
    "            nn.Flatten(),\n",
    "            nn.Linear(28 * 28, 128),\n",
    "            nn.ReLU(),\n",
    "            nn.Linear(128, 10)\n",
    "        )\n",
    "\n",
    "    def forward(self, x):\n",
    "        return self.fc(x)"
   ]
  },
  {
   "cell_type": "code",
   "execution_count": 13,
   "id": "6f3a8a63",
   "metadata": {},
   "outputs": [],
   "source": [
    "classifier = DigitClassifier().to(device)\n",
    "classifier_optimizer = torch.optim.Adam(classifier.parameters(), lr=1e-4)\n",
    "classifier_criterion = nn.CrossEntropyLoss()"
   ]
  },
  {
   "cell_type": "code",
   "execution_count": 14,
   "id": "1461e596",
   "metadata": {},
   "outputs": [
    {
     "name": "stdout",
     "output_type": "stream",
     "text": [
      "Resumed classifier training from epoch 70\n",
      "Starting classifier training...\n"
     ]
    },
    {
     "name": "stderr",
     "output_type": "stream",
     "text": [
      "/tmp/ipykernel_1679/4293556471.py:7: FutureWarning: `torch.cuda.amp.GradScaler(args...)` is deprecated. Please use `torch.amp.GradScaler('cuda', args...)` instead.\n",
      "  scaler = GradScaler()\n"
     ]
    }
   ],
   "source": [
    "import math  # Ensure math is available\n",
    "\n",
    "# Train DigitClassifier\n",
    "classifier = DigitClassifier().to(device)\n",
    "classifier_optimizer = torch.optim.Adam(classifier.parameters(), lr=1e-4)\n",
    "classifier_criterion = nn.CrossEntropyLoss()\n",
    "scaler = GradScaler()\n",
    "epochs = 70  # Enough for MNIST classification, ~10-15 minutes\n",
    "checkpoint_path_classifier = \"checkpoint_classifier.pth\"\n",
    "\n",
    "if os.path.exists(checkpoint_path_classifier):\n",
    "    try:\n",
    "        checkpoint = torch.load(checkpoint_path_classifier)\n",
    "        classifier.load_state_dict(checkpoint['classifier_state_dict'])\n",
    "        classifier_optimizer.load_state_dict(checkpoint['classifier_optimizer_state_dict'])\n",
    "        start_epoch = checkpoint['epoch'] + 1\n",
    "        losses_per_epoch = checkpoint['losses_per_epoch']\n",
    "        accuracies_per_epoch = checkpoint['accuracies_per_epoch']\n",
    "        print(f\"Resumed classifier training from epoch {start_epoch}\")\n",
    "    except Exception as e:\n",
    "        print(f\"Error loading checkpoint: {e}. Starting fresh.\")\n",
    "        start_epoch = 0\n",
    "        losses_per_epoch = []\n",
    "        accuracies_per_epoch = []\n",
    "else:\n",
    "    start_epoch = 0\n",
    "    losses_per_epoch = []\n",
    "    accuracies_per_epoch = []\n",
    "\n",
    "print(\"Starting classifier training...\")\n",
    "for epoch in range(start_epoch, epochs):\n",
    "    classifier.train()\n",
    "    pbar = tqdm.tqdm(train_dataloader)\n",
    "    total_loss, correct_preds, total_preds = 0, 0, 0\n",
    "\n",
    "    for step, (x, labels) in enumerate(pbar):\n",
    "        try:\n",
    "            x = x.to(device)  # (batch, 1, 28, 28)\n",
    "            labels = labels.to(device)  # (batch), indices 0-9\n",
    "            batch_size = x.shape[0]\n",
    "\n",
    "            with autocast():\n",
    "                flat_x = x.view(batch_size, -1)  # Flatten to (batch, 784)\n",
    "                pred_labels = classifier(flat_x)  # Should be (batch, 10)\n",
    "                loss = classifier_criterion(pred_labels, labels)  # Ensure labels are indices\n",
    "\n",
    "            classifier_optimizer.zero_grad()\n",
    "            scaler.scale(loss).backward()\n",
    "            scaler.step(classifier_optimizer)\n",
    "            scaler.update()\n",
    "\n",
    "            _, predicted = torch.max(pred_labels, 1)  # Get predicted class indices\n",
    "            correct_preds += (predicted == labels).sum().item()\n",
    "            total_preds += batch_size\n",
    "            total_loss += loss.item()\n",
    "            accuracy = correct_preds / total_preds * 100\n",
    "            pbar.set_description(f\"Classifier Loss: {loss.item():.4f} | Acc: {accuracy:.2f}%\")\n",
    "        except RuntimeError as e:\n",
    "            print(f\"Runtime error at step {step}: {e}. Skipping batch. Check dimensions or reduce batch size to 32.\")\n",
    "            break\n",
    "        except ValueError as e:\n",
    "            print(f\"Value error at step {step}: {e}. Likely dimension mismatch. pred_labels shape: {pred_labels.shape}, labels shape: {labels.shape}\")\n",
    "            break\n",
    "\n",
    "    if total_preds > 0:\n",
    "        avg_loss = total_loss / (step + 1)  # Adjust for possible early break\n",
    "        accuracy = correct_preds / total_preds * 100\n",
    "        losses_per_epoch.append(avg_loss)\n",
    "        accuracies_per_epoch.append(accuracy)\n",
    "        print(f\"Epoch {epoch+1}/{epochs} | Average Loss: {avg_loss:.6f} | Accuracy: {accuracy:.2f}%\")\n",
    "    else:\n",
    "        print(f\"Epoch {epoch+1}/{epochs} | No valid batches processed. Check data loading.\")\n",
    "        losses_per_epoch.append(float('nan'))\n",
    "        accuracies_per_epoch.append(0.0)\n",
    "\n",
    "    torch.save({\n",
    "        'epoch': epoch,\n",
    "        'classifier_state_dict': classifier.state_dict(),\n",
    "        'classifier_optimizer_state_dict': classifier_optimizer.state_dict(),\n",
    "        'losses_per_epoch': losses_per_epoch,\n",
    "        'accuracies_per_epoch': accuracies_per_epoch,\n",
    "    }, checkpoint_path_classifier)\n",
    "    print(f\"Classifier checkpoint saved at epoch {epoch+1}\")\n",
    "\n",
    "    # Plotting\n",
    "    clear_output(wait=True)\n",
    "    plt.figure(figsize=(12, 4))\n",
    "    plt.subplot(1, 2, 1)\n",
    "    plt.plot(range(1, epoch + 2), losses_per_epoch, label='Loss', color='blue')\n",
    "    plt.xlabel(\"Epoch\")\n",
    "    plt.ylabel(\"Loss\")\n",
    "    plt.title(\"Classifier Loss vs Epoch\")\n",
    "    plt.grid(True)\n",
    "    plt.subplot(1, 2, 2)\n",
    "    plt.plot(range(1, epoch + 2), accuracies_per_epoch, label='Accuracy (%)', color='green')\n",
    "    plt.xlabel(\"Epoch\")\n",
    "    plt.ylabel(\"Accuracy\")\n",
    "    plt.title(\"Classifier Accuracy vs Epoch\")\n",
    "    plt.grid(True)\n",
    "    plt.tight_layout()\n",
    "    plt.show()"
   ]
  },
  {
   "cell_type": "code",
   "execution_count": 15,
   "id": "654069dd",
   "metadata": {},
   "outputs": [
    {
     "ename": "NameError",
     "evalue": "name 'train_dataloader' is not defined",
     "output_type": "error",
     "traceback": [
      "\u001b[0;31m---------------------------------------------------------------------------\u001b[0m",
      "\u001b[0;31mNameError\u001b[0m                                 Traceback (most recent call last)",
      "Cell \u001b[0;32mIn[15], line 5\u001b[0m\n\u001b[1;32m      2\u001b[0m classifier\u001b[38;5;241m.\u001b[39meval()\n\u001b[1;32m      4\u001b[0m \u001b[38;5;66;03m# Get a batch for testing\u001b[39;00m\n\u001b[0;32m----> 5\u001b[0m dataiter \u001b[38;5;241m=\u001b[39m \u001b[38;5;28miter\u001b[39m(\u001b[43mtrain_dataloader\u001b[49m)\n\u001b[1;32m      6\u001b[0m images, labels \u001b[38;5;241m=\u001b[39m \u001b[38;5;28mnext\u001b[39m(dataiter)\n\u001b[1;32m      7\u001b[0m images, labels \u001b[38;5;241m=\u001b[39m images\u001b[38;5;241m.\u001b[39mto(device), labels\u001b[38;5;241m.\u001b[39mto(device)\n",
      "\u001b[0;31mNameError\u001b[0m: name 'train_dataloader' is not defined"
     ]
    }
   ],
   "source": [
    "# Test DigitClassifier\n",
    "classifier.eval()\n",
    "\n",
    "# Get a batch for testing\n",
    "dataiter = iter(train_dataloader)\n",
    "images, labels = next(dataiter)\n",
    "images, labels = images.to(device), labels.to(device)\n",
    "batch_size = images.shape[0]\n",
    "\n",
    "with torch.no_grad():\n",
    "    flat_images = images.view(batch_size, -1)  # Flatten to (batch, 784)\n",
    "    outputs = classifier(flat_images)  # (batch, 10)\n",
    "    _, predicted = torch.max(outputs, 1)  # Get predicted class indices\n",
    "\n",
    "# Calculate accuracy\n",
    "correct = (predicted == labels).sum().item()\n",
    "accuracy = correct / batch_size * 100\n",
    "print(f\"Test Accuracy on batch: {accuracy:.2f}%\")\n",
    "print(f\"Correct predictions: {correct} out of {batch_size}\")\n",
    "\n",
    "# Visualize some predictions\n",
    "import numpy as np\n",
    "import matplotlib.pyplot as plt\n",
    "\n",
    "fig, axes = plt.subplots(2, 5, figsize=(12, 6))\n",
    "axes = axes.ravel()\n",
    "for idx in range(10):\n",
    "    ax = axes[idx]\n",
    "    img = images[idx].cpu().numpy().squeeze()  # (1, 28, 28) -> (28, 28)\n",
    "    ax.imshow(img, cmap='gray')\n",
    "    ax.set_title(f\"True: {labels[idx].item()}\\nPred: {predicted[idx].item()}\")\n",
    "    ax.axis('off')\n",
    "plt.tight_layout()\n",
    "plt.show()"
   ]
  },
  {
   "cell_type": "code",
   "execution_count": 16,
   "id": "2c1af2de",
   "metadata": {},
   "outputs": [],
   "source": [
    "@torch.no_grad()\n",
    "def sample(model, n_samples=1, img_size=28, channels=1, label=None):\n",
    "    model.eval()\n",
    "    if label is None:\n",
    "        labels = torch.randint(0, 10, (n_samples,)).to(device)\n",
    "    else:\n",
    "        labels = torch.full((n_samples,), label, device=device)\n",
    "    labels_one_hot = F.one_hot(labels, num_classes=10).float()\n",
    "    x = torch.randn((n_samples, channels, img_size, img_size)).to(device)\n",
    "    for t in reversed(range(1, T)):\n",
    "        t_batch = torch.full((n_samples,), t, device=device, dtype=torch.long)\n",
    "        beta_t = betas[t].to(device)\n",
    "        sqrt_one_minus_alphas_cumprod_t = sqrt_one_minus_alphas_cumprod[t].to(device)\n",
    "        sqrt_recip_alpha_t = (1.0 / torch.sqrt(alphas[t])).to(device)\n",
    "        epsilon_theta = model(x, t_batch.float(), labels_one_hot)\n",
    "        model_mean = sqrt_recip_alpha_t * (x - beta_t * epsilon_theta / sqrt_one_minus_alphas_cumprod_t)\n",
    "        if t > 1:\n",
    "            noise = torch.randn_like(x).to(device)\n",
    "            sigma_t = torch.sqrt(beta_t)\n",
    "            x = model_mean + sigma_t * noise\n",
    "        else:\n",
    "            x = model_mean\n",
    "    x = torch.clamp(x, -1, 1)\n",
    "    return x * 0.5 + 0.5  # Unnormalize to [0, 1] for plotting and classification"
   ]
  },
  {
   "cell_type": "code",
   "execution_count": 17,
   "id": "38b89577",
   "metadata": {},
   "outputs": [
    {
     "name": "stdout",
     "output_type": "stream",
     "text": [
      "Resumed diffusion training from epoch 300\n"
     ]
    },
    {
     "name": "stderr",
     "output_type": "stream",
     "text": [
      "/tmp/ipykernel_1679/1312417916.py:6: FutureWarning: `torch.cuda.amp.GradScaler(args...)` is deprecated. Please use `torch.amp.GradScaler('cuda', args...)` instead.\n",
      "  scaler = GradScaler()\n"
     ]
    }
   ],
   "source": [
    "# Train Guided Diffusion Model\n",
    "checkpoint_path_diffusion = \"checkpoint_diffusion.pth\"\n",
    "model = UNet().to(device)\n",
    "optimizer = torch.optim.Adam(model.parameters(), lr=1e-4)\n",
    "mse = nn.MSELoss()\n",
    "scaler = GradScaler()\n",
    "epochs = 250\n",
    "\n",
    "# Load pre-trained classifier\n",
    "checkpoint_classifier = torch.load(\"checkpoint_classifier.pth\")\n",
    "classifier = DigitClassifier().to(device)\n",
    "classifier.load_state_dict(checkpoint_classifier['classifier_state_dict'])\n",
    "classifier.eval()  # Freeze classifier, no training\n",
    "\n",
    "if os.path.exists(checkpoint_path_diffusion):\n",
    "    checkpoint = torch.load(checkpoint_path_diffusion)\n",
    "    model.load_state_dict(checkpoint['model_state_dict'])\n",
    "    optimizer.load_state_dict(checkpoint['optimizer_state_dict'])\n",
    "    start_epoch = checkpoint['epoch'] + 1\n",
    "    losses_per_epoch = checkpoint['losses_per_epoch']\n",
    "    psnrs_per_epoch = checkpoint['psnrs_per_epoch']\n",
    "    print(f\"Resumed diffusion training from epoch {start_epoch}\")\n",
    "else:\n",
    "    start_epoch = 0\n",
    "    losses_per_epoch = []\n",
    "    psnrs_per_epoch = []\n",
    "    accuracies_per_epoch = []\n",
    "\n",
    "def psnr(pred, target, max_val=1.0):\n",
    "    mse = torch.mean((pred - target) ** 2)\n",
    "    return 20 * torch.log10(max_val / torch.sqrt(mse)) if mse > 0 else float('inf')\n",
    "\n",
    "@torch.no_grad()\n",
    "def sample(model, n_samples=64, img_size=28, channels=1, label=None):\n",
    "    model.eval()\n",
    "    if label is None:\n",
    "        labels = torch.randint(0, 10, (n_samples,)).to(device)\n",
    "    else:\n",
    "        labels = torch.full((n_samples,), label, device=device)\n",
    "    labels_one_hot = F.one_hot(labels, num_classes=10).float()\n",
    "    x = torch.randn((n_samples, channels, img_size, img_size)).to(device)\n",
    "    for t in reversed(range(1, T)):\n",
    "        t_batch = torch.full((n_samples,), t, device=device, dtype=torch.long)\n",
    "        beta_t = betas[t].to(device)\n",
    "        sqrt_one_minus_alphas_cumprod_t = sqrt_one_minus_alphas_cumprod[t].to(device)\n",
    "        sqrt_recip_alpha_t = (1.0 / torch.sqrt(alphas[t])).to(device)\n",
    "        epsilon_theta = model(x, t_batch.float(), labels_one_hot)\n",
    "        model_mean = sqrt_recip_alpha_t * (x - beta_t * epsilon_theta / sqrt_one_minus_alphas_cumprod_t)\n",
    "        if t > 1:\n",
    "            noise = torch.randn_like(x).to(device)\n",
    "            sigma_t = torch.sqrt(beta_t)\n",
    "            x = model_mean + sigma_t * noise\n",
    "        else:\n",
    "            x = model_mean\n",
    "    x = torch.clamp(x, -1, 1)\n",
    "    return x * 0.5 + 0.5  # Unnormalize to [0, 1]\n"
   ]
  },
  {
   "cell_type": "code",
   "execution_count": 18,
   "id": "664f3280",
   "metadata": {},
   "outputs": [
    {
     "name": "stdout",
     "output_type": "stream",
     "text": [
      "Starting diffusion training...\n"
     ]
    }
   ],
   "source": [
    "epochs = 300\n",
    "\n",
    "print(\"Starting diffusion training...\")\n",
    "for epoch in range(start_epoch, epochs):\n",
    "    print(f\"\\nEpoch {epoch+1}/{epochs}\")\n",
    "    pbar = tqdm.tqdm(train_dataloader)\n",
    "    total_loss, step_count, total_psnr = 0, 0, 0\n",
    "\n",
    "    model.train()\n",
    "    for step, (x, labels) in enumerate(pbar):\n",
    "        try:\n",
    "            x = x.to(device)  # (batch, 1, 28, 28)\n",
    "            labels_one_hot = F.one_hot(labels, num_classes=10).float().to(device)\n",
    "            batch_size = x.shape[0]\n",
    "            t = torch.randint(0, T, (batch_size,), device=device).long()\n",
    "\n",
    "            with autocast():\n",
    "                x_t, noise = forward_diffusion_sample(x, t)\n",
    "                if x_t.shape != noise.shape or x_t.shape[1:] != (1, 28, 28):\n",
    "                    raise ValueError(f\"Shape mismatch: x_t {x_t.shape}, noise {noise.shape}\")\n",
    "                noise_pred = model(x_t, t.float(), labels_one_hot)\n",
    "                if noise_pred.shape != noise.shape:\n",
    "                    raise ValueError(f\"Shape mismatch: noise_pred {noise_pred.shape}, noise {noise.shape}\")\n",
    "                loss = mse(noise_pred, noise)\n",
    "\n",
    "            optimizer.zero_grad()\n",
    "            scaler.scale(loss).backward()\n",
    "            scaler.step(optimizer)\n",
    "            scaler.update()\n",
    "\n",
    "            # PSNR calculation\n",
    "            alpha_bar = sqrt_alphas_cumprod[t][:, None, None, None]\n",
    "            one_minus_alpha_bar = sqrt_one_minus_alphas_cumprod[t][:, None, None, None]\n",
    "            x0_pred = (x_t - one_minus_alpha_bar * noise_pred) / alpha_bar\n",
    "            x0_pred = torch.clamp(x0_pred, -1, 1)\n",
    "            if x0_pred.shape != x.shape:\n",
    "                raise ValueError(f\"Shape mismatch: x0_pred {x0_pred.shape}, x {x.shape}\")\n",
    "            batch_psnr = psnr(x0_pred, x)\n",
    "\n",
    "            total_loss += loss.item()\n",
    "            total_psnr += batch_psnr.item()\n",
    "            step_count += 1\n",
    "            pbar.set_description(f\"Loss: {loss.item():.4f} | PSNR: {batch_psnr.item():.2f}\")\n",
    "        except RuntimeError as e:\n",
    "            print(f\"Runtime error at step {step}: {e}. Skipping batch. Consider reducing batch size to 16.\")\n",
    "            break\n",
    "        except ValueError as e:\n",
    "            print(f\"Value error at step {step}: {e}. Adjusting flow to prevent crash.\")\n",
    "            break\n",
    "\n",
    "    if step_count > 0:\n",
    "        avg_loss = total_loss / step_count\n",
    "        avg_psnr = total_psnr / step_count\n",
    "        losses_per_epoch.append(avg_loss)\n",
    "        psnrs_per_epoch.append(avg_psnr)\n",
    "        print(f\"Average Loss: {avg_loss:.6f} | Average PSNR: {avg_psnr:.2f}\")\n",
    "    else:\n",
    "        print(f\"Epoch {epoch+1}/{epochs} | No valid batches processed. Check data or reduce batch size.\")\n",
    "        losses_per_epoch.append(float('nan'))\n",
    "        psnrs_per_epoch.append(float('nan'))\n",
    "\n",
    "    torch.save({\n",
    "        'epoch': epoch,\n",
    "        'model_state_dict': model.state_dict(),\n",
    "        'optimizer_state_dict': optimizer.state_dict(),\n",
    "        'losses_per_epoch': losses_per_epoch,\n",
    "        'psnrs_per_epoch': psnrs_per_epoch,\n",
    "    }, checkpoint_path_diffusion)\n",
    "    print(f\"Diffusion checkpoint saved at epoch {epoch+1}\")\n",
    "\n",
    "    # Plotting with shape alignment\n",
    "    clear_output(wait=True)\n",
    "    plt.figure(figsize=(10, 4))\n",
    "    plt.subplot(1, 2, 1)\n",
    "    x_range = range(1, len(losses_per_epoch) + 1)  # Dynamic range based on data length\n",
    "    plt.plot(x_range, losses_per_epoch, label='MSE Loss')\n",
    "    plt.xlabel(\"Epoch\")\n",
    "    plt.ylabel(\"Loss\")\n",
    "    plt.title(\"Loss vs Epoch\")\n",
    "    plt.grid(True)\n",
    "    plt.subplot(1, 2, 2)\n",
    "    plt.plot(x_range, psnrs_per_epoch, label='PSNR (dB)', color='orange')\n",
    "    plt.xlabel(\"Epoch\")\n",
    "    plt.ylabel(\"PSNR\")\n",
    "    plt.title(\"PSNR vs Epoch\")\n",
    "    plt.grid(True)\n",
    "    plt.tight_layout()\n",
    "    plt.show()"
   ]
  },
  {
   "cell_type": "code",
   "execution_count": 19,
   "id": "0aee518c",
   "metadata": {},
   "outputs": [
    {
     "data": {
      "text/plain": [
       "DigitClassifier(\n",
       "  (fc): Sequential(\n",
       "    (0): Flatten(start_dim=1, end_dim=-1)\n",
       "    (1): Linear(in_features=784, out_features=128, bias=True)\n",
       "    (2): ReLU()\n",
       "    (3): Linear(in_features=128, out_features=10, bias=True)\n",
       "  )\n",
       ")"
      ]
     },
     "execution_count": 19,
     "metadata": {},
     "output_type": "execute_result"
    }
   ],
   "source": [
    "# Test Trained Diffusion Model\n",
    "checkpoint_path_diffusion = \"checkpoint_diffusion.pth\"\n",
    "checkpoint = torch.load(checkpoint_path_diffusion)\n",
    "model = UNet().to(device)\n",
    "model.load_state_dict(checkpoint['model_state_dict'])\n",
    "model.eval()\n",
    "\n",
    "# Load pre-trained classifier\n",
    "checkpoint_classifier = torch.load(\"checkpoint_classifier.pth\")\n",
    "classifier = DigitClassifier().to(device)\n",
    "classifier.load_state_dict(checkpoint_classifier['classifier_state_dict'])\n",
    "classifier.eval()\n"
   ]
  },
  {
   "cell_type": "code",
   "execution_count": 20,
   "id": "77d3780e",
   "metadata": {},
   "outputs": [],
   "source": [
    "\n",
    "@torch.no_grad()\n",
    "def sample(model, n_samples=64, img_size=28, channels=1, label=None):\n",
    "    if label is None:\n",
    "        labels = torch.randint(0, 10, (n_samples,)).to(device)  # Generate with specific labels\n",
    "    else:\n",
    "        labels = torch.full((n_samples,), label, device=device)\n",
    "    labels_one_hot = F.one_hot(labels, num_classes=10).float()\n",
    "    x = torch.randn((n_samples, channels, img_size, img_size)).to(device)\n",
    "    for t in reversed(range(1, T)):\n",
    "        t_batch = torch.full((n_samples,), t, device=device, dtype=torch.long)\n",
    "        beta_t = betas[t].to(device)\n",
    "        sqrt_one_minus_alphas_cumprod_t = sqrt_one_minus_alphas_cumprod[t].to(device)\n",
    "        sqrt_recip_alpha_t = (1.0 / torch.sqrt(alphas[t])).to(device)\n",
    "        epsilon_theta = model(x, t_batch.float(), labels_one_hot)\n",
    "        model_mean = sqrt_recip_alpha_t * (x - beta_t * epsilon_theta / sqrt_one_minus_alphas_cumprod_t)\n",
    "        if t > 1:\n",
    "            noise = torch.randn_like(x).to(device)\n",
    "            sigma_t = torch.sqrt(beta_t)\n",
    "            x = model_mean + sigma_t * noise\n",
    "        else:\n",
    "            x = model_mean\n",
    "    x = torch.clamp(x, -1, 1)\n",
    "    return x * 0.5 + 0.5, labels  # Return samples and their intended labels"
   ]
  },
  {
   "cell_type": "code",
   "execution_count": 21,
   "id": "3653bd46",
   "metadata": {},
   "outputs": [
    {
     "name": "stdout",
     "output_type": "stream",
     "text": [
      "Overall Accuracy of generated digits: 73.00%\n"
     ]
    }
   ],
   "source": [
    "# Generate and evaluate samples for each digit (0-9)\n",
    "total_correct, total_samples = 0, 0\n",
    "all_samples = []\n",
    "all_predicted = []\n",
    "all_true = []\n",
    "\n",
    "for digit in range(10):\n",
    "    samples, true_labels = sample(model, n_samples=10, label=digit)  # 10 samples per digit\n",
    "    flat_samples = samples.view(10, -1)\n",
    "    pred_labels = classifier(flat_samples)\n",
    "    _, predicted = torch.max(pred_labels, 1)\n",
    "    correct = (predicted == true_labels).sum().item()\n",
    "    total_correct += correct\n",
    "    total_samples += 10\n",
    "    all_samples.append(samples)\n",
    "    all_predicted.extend(predicted.cpu().numpy())\n",
    "    all_true.extend(true_labels.cpu().numpy())\n",
    "\n",
    "accuracy = (total_correct / total_samples) * 100\n",
    "print(f\"Overall Accuracy of generated digits: {accuracy:.2f}%\")"
   ]
  },
  {
   "cell_type": "code",
   "execution_count": 22,
   "id": "37cc25d1",
   "metadata": {},
   "outputs": [
    {
     "data": {
      "image/png": "[encoded data removed]",
      "text/plain": [
       "<Figure size 1200x1000 with 20 Axes>"
      ]
     },
     "metadata": {},
     "output_type": "display_data"
    }
   ],
   "source": [
    "\n",
    "# Visualize some samples\n",
    "import numpy as np\n",
    "import matplotlib.pyplot as plt\n",
    "\n",
    "fig, axes = plt.subplots(4, 5, figsize=(12, 10))\n",
    "axes = axes.ravel()\n",
    "for idx in range(20):  # Show 20 samples (2 per digit)\n",
    "    digit_idx = idx // 2\n",
    "    sample_idx = idx % 2\n",
    "    ax = axes[idx]\n",
    "    img = all_samples[digit_idx][sample_idx].cpu().numpy().squeeze()\n",
    "    ax.imshow(img, cmap='gray')\n",
    "    ax.set_title(f\"True: {all_true[idx]}\\nPred: {all_predicted[idx]}\")\n",
    "    ax.axis('off')\n",
    "plt.tight_layout()\n",
    "plt.show()"
   ]
  },
  {
   "cell_type": "code",
   "execution_count": 28,
   "id": "c9c62095",
   "metadata": {},
   "outputs": [
    {
     "name": "stdout",
     "output_type": "stream",
     "text": [
      "Overall Accuracy of generated digits: 88.00%\n",
      "Raw logits shapes: [(10, 10), (10, 10), (10, 10), (10, 10), (10, 10), (10, 10), (10, 10), (10, 10), (10, 10), (10, 10)]\n",
      "Sample predicted values: [np.int64(0), np.int64(0), np.int64(0), np.int64(0), np.int64(0), np.int64(0), np.int64(0), np.int64(0), np.int64(0), np.int64(2), np.int64(1), np.int64(1), np.int64(1), np.int64(1), np.int64(1), np.int64(1), np.int64(1), np.int64(1), np.int64(1), np.int64(1)]\n"
     ]
    }
   ],
   "source": [
    "# Generate and evaluate samples for each digit (0-9)\n",
    "total_correct, total_samples = 0, 0\n",
    "all_samples = []\n",
    "all_predicted = []\n",
    "all_true = []\n",
    "all_logits = []  # To debug classifier output\n",
    "\n",
    "with torch.no_grad():\n",
    "    for digit in range(10):\n",
    "        samples, true_labels = sample(model, n_samples=10, label=digit)  # 10 samples per digit\n",
    "        flat_samples = samples.view(10, -1)\n",
    "        pred_labels = classifier(flat_samples)  # Logits (10, 10)\n",
    "        _, predicted = torch.max(pred_labels, 1)\n",
    "        correct = (predicted == true_labels).sum().item()\n",
    "        total_correct += correct\n",
    "        total_samples += 10\n",
    "        all_samples.append(samples)\n",
    "        all_predicted.extend(predicted.cpu().numpy())\n",
    "        all_true.extend(true_labels.cpu().numpy())\n",
    "        all_logits.append(pred_labels.detach().cpu().numpy())  # Store raw logits for debugging\n",
    "\n",
    "accuracy = total_correct / total_samples * 100\n",
    "print(f\"Overall Accuracy of generated digits: {accuracy:.2f}%\")\n",
    "print(f\"Raw logits shapes: {[logit.shape for logit in all_logits]}\")  # Debug logits shape\n",
    "print(f\"Sample predicted values: {all_predicted[:20]}\")  # Check first 20 predictions\n",
    "\n"
   ]
  },
  {
   "cell_type": "code",
   "execution_count": 31,
   "id": "d488d042",
   "metadata": {},
   "outputs": [
    {
     "data": {
      "image/png": "[encoded data removed]",
      "text/plain": [
       "<Figure size 1200x1000 with 20 Axes>"
      ]
     },
     "metadata": {},
     "output_type": "display_data"
    }
   ],
   "source": [
    "# Visualize some samples\n",
    "import numpy as np\n",
    "import matplotlib.pyplot as plt\n",
    "\n",
    "fig, axes = plt.subplots(4, 5, figsize=(12, 10))\n",
    "axes = axes.ravel()\n",
    "for idx in range(20):  # Show 20 samples (2 per digit)\n",
    "    digit_idx = idx // 2\n",
    "    sample_idx = idx % 2\n",
    "    ax = axes[idx]\n",
    "    img = all_samples[digit_idx][sample_idx].cpu().numpy().squeeze()\n",
    "    ax.imshow(img, cmap='gray')\n",
    "    ax.set_title(f\"True: {all_true[idx]}\\nPred: {all_predicted[idx]}\")\n",
    "    ax.axis('off')\n",
    "plt.tight_layout()\n",
    "plt.show()"
   ]
  },
  {
   "cell_type": "code",
   "execution_count": 23,
   "id": "df72bb46",
   "metadata": {},
   "outputs": [
    {
     "name": "stdout",
     "output_type": "stream",
     "text": [
      "Loading MNIST test dataset...\n",
      "Loaded 10000 test samples. Starting evaluation...\n",
      "Loading diffusion model checkpoint...\n",
      "Diffusion model loaded successfully.\n",
      "Loading classifier checkpoint...\n",
      "Classifier loaded successfully.\n"
     ]
    }
   ],
   "source": [
    "# Test Trained Diffusion Model on MNIST Test Dataset\n",
    "import torch\n",
    "from torch.utils.data import DataLoader\n",
    "from torchvision import datasets, transforms\n",
    "\n",
    "# Load MNIST test dataset with feedback\n",
    "print(\"Loading MNIST test dataset...\")\n",
    "transform = transforms.Compose([transforms.ToTensor(), transforms.Normalize((0.1307,), (0.3081,))])\n",
    "test_dataset = datasets.MNIST(root='./data', train=False, download=True, transform=transform)\n",
    "test_dataloader = DataLoader(test_dataset, batch_size=64, shuffle=False)\n",
    "print(f\"Loaded {len(test_dataset)} test samples. Starting evaluation...\")\n",
    "\n",
    "checkpoint_path_diffusion = \"checkpoint_diffusion.pth\"\n",
    "print(\"Loading diffusion model checkpoint...\")\n",
    "checkpoint = torch.load(checkpoint_path_diffusion)\n",
    "model = UNet().to(device)\n",
    "model.load_state_dict(checkpoint['model_state_dict'])\n",
    "model.eval()\n",
    "print(\"Diffusion model loaded successfully.\")\n",
    "\n",
    "# Load pre-trained classifier\n",
    "print(\"Loading classifier checkpoint...\")\n",
    "checkpoint_classifier = torch.load(\"checkpoint_classifier.pth\")\n",
    "classifier = DigitClassifier().to(device)\n",
    "classifier.load_state_dict(checkpoint_classifier['classifier_state_dict'])\n",
    "classifier.eval()\n",
    "print(\"Classifier loaded successfully.\")"
   ]
  },
  {
   "cell_type": "code",
   "execution_count": 28,
   "id": "ea1c6b80",
   "metadata": {},
   "outputs": [],
   "source": [
    "@torch.no_grad()\n",
    "def sample(model, x, labels, img_size=28, channels=1):\n",
    "    print(f\"Sampling batch with shape {x.shape} and {len(labels)} labels...\")\n",
    "    labels_one_hot = F.one_hot(labels, num_classes=10).float().to(device)\n",
    "    x_noisy = x.clone().to(device)\n",
    "    for t in reversed(range(1, T)):\n",
    "        if t % 100 == 0:  # Feedback every 100 steps\n",
    "            print(f\"  Denoising step {t}...\")\n",
    "        t_batch = torch.full((x.shape[0],), t, device=device, dtype=torch.long)\n",
    "        beta_t = betas[t].to(device)\n",
    "        sqrt_one_minus_alphas_cumprod_t = sqrt_one_minus_alphas_cumprod[t].to(device)\n",
    "        sqrt_recip_alpha_t = (1.0 / torch.sqrt(alphas[t])).to(device)\n",
    "        epsilon_theta = model(x_noisy, t_batch.float(), labels_one_hot)\n",
    "        model_mean = sqrt_recip_alpha_t * (x_noisy - beta_t * epsilon_theta / sqrt_one_minus_alphas_cumprod_t)\n",
    "        if t > 1:\n",
    "            noise = torch.randn_like(x_noisy).to(device)\n",
    "            sigma_t = torch.sqrt(beta_t)\n",
    "            x_noisy = model_mean + sigma_t * noise\n",
    "        else:\n",
    "            x_noisy = model_mean\n",
    "    x_noisy = torch.clamp(x_noisy, -1, 1)\n",
    "    print(f\"Sampling complete for batch. Output shape: {x_noisy.shape}\")\n",
    "    return x_noisy * 0.5 + 0.5  # Unnormalize to [0, 1]\n",
    "\n",
    "# Evaluate on test dataset with progress bar\n",
    "total_correct, total_samples = 0, 0\n",
    "all_samples = []\n",
    "all_predicted = []\n",
    "all_true = []"
   ]
  },
  {
   "cell_type": "code",
   "execution_count": 35,
   "id": "989cefdc",
   "metadata": {},
   "outputs": [
    {
     "name": "stdout",
     "output_type": "stream",
     "text": [
      "Starting evaluation loop...\n"
     ]
    },
    {
     "name": "stderr",
     "output_type": "stream",
     "text": [
      "Evaluating:   0%|          | 0/157 [00:00<?, ?it/s]"
     ]
    },
    {
     "name": "stdout",
     "output_type": "stream",
     "text": [
      "Processing batch with 64 samples...\n",
      "Sampling batch with shape torch.Size([64, 1, 28, 28]) and 64 labels...\n",
      "  Denoising step 900...\n"
     ]
    },
    {
     "name": "stderr",
     "output_type": "stream",
     "text": [
      "Evaluating:   0%|          | 0/157 [00:07<?, ?it/s]\n"
     ]
    },
    {
     "ename": "KeyboardInterrupt",
     "evalue": "",
     "output_type": "error",
     "traceback": [
      "\u001b[0;31m---------------------------------------------------------------------------\u001b[0m",
      "\u001b[0;31mKeyboardInterrupt\u001b[0m                         Traceback (most recent call last)",
      "Cell \u001b[0;32mIn[35], line 12\u001b[0m\n\u001b[1;32m     10\u001b[0m \u001b[38;5;28mprint\u001b[39m(\u001b[38;5;124mf\u001b[39m\u001b[38;5;124m\"\u001b[39m\u001b[38;5;124mProcessing batch with \u001b[39m\u001b[38;5;132;01m{\u001b[39;00m\u001b[38;5;28mlen\u001b[39m(labels)\u001b[38;5;132;01m}\u001b[39;00m\u001b[38;5;124m samples...\u001b[39m\u001b[38;5;124m\"\u001b[39m)\n\u001b[1;32m     11\u001b[0m \u001b[38;5;28;01mtry\u001b[39;00m:\n\u001b[0;32m---> 12\u001b[0m     samples \u001b[38;5;241m=\u001b[39m \u001b[43msample\u001b[49m\u001b[43m(\u001b[49m\u001b[43mmodel\u001b[49m\u001b[43m,\u001b[49m\u001b[43m \u001b[49m\u001b[43mx\u001b[49m\u001b[43m,\u001b[49m\u001b[43m \u001b[49m\u001b[43mlabels\u001b[49m\u001b[43m)\u001b[49m  \u001b[38;5;66;03m# Generate new samples conditioned on test labels\u001b[39;00m\n\u001b[1;32m     13\u001b[0m     flat_samples \u001b[38;5;241m=\u001b[39m samples\u001b[38;5;241m.\u001b[39mview(\u001b[38;5;28mlen\u001b[39m(labels), \u001b[38;5;241m-\u001b[39m\u001b[38;5;241m1\u001b[39m)\n\u001b[1;32m     14\u001b[0m     pred_labels \u001b[38;5;241m=\u001b[39m classifier(flat_samples)\n",
      "File \u001b[0;32m~/Desktop/number-gen/.venv/lib/python3.10/site-packages/torch/utils/_contextlib.py:116\u001b[0m, in \u001b[0;36mcontext_decorator.<locals>.decorate_context\u001b[0;34m(*args, **kwargs)\u001b[0m\n\u001b[1;32m    113\u001b[0m \u001b[38;5;129m@functools\u001b[39m\u001b[38;5;241m.\u001b[39mwraps(func)\n\u001b[1;32m    114\u001b[0m \u001b[38;5;28;01mdef\u001b[39;00m\u001b[38;5;250m \u001b[39m\u001b[38;5;21mdecorate_context\u001b[39m(\u001b[38;5;241m*\u001b[39margs, \u001b[38;5;241m*\u001b[39m\u001b[38;5;241m*\u001b[39mkwargs):\n\u001b[1;32m    115\u001b[0m     \u001b[38;5;28;01mwith\u001b[39;00m ctx_factory():\n\u001b[0;32m--> 116\u001b[0m         \u001b[38;5;28;01mreturn\u001b[39;00m \u001b[43mfunc\u001b[49m\u001b[43m(\u001b[49m\u001b[38;5;241;43m*\u001b[39;49m\u001b[43margs\u001b[49m\u001b[43m,\u001b[49m\u001b[43m \u001b[49m\u001b[38;5;241;43m*\u001b[39;49m\u001b[38;5;241;43m*\u001b[39;49m\u001b[43mkwargs\u001b[49m\u001b[43m)\u001b[49m\n",
      "Cell \u001b[0;32mIn[28], line 13\u001b[0m, in \u001b[0;36msample\u001b[0;34m(model, x, labels, img_size, channels)\u001b[0m\n\u001b[1;32m     11\u001b[0m sqrt_one_minus_alphas_cumprod_t \u001b[38;5;241m=\u001b[39m sqrt_one_minus_alphas_cumprod[t]\u001b[38;5;241m.\u001b[39mto(device)\n\u001b[1;32m     12\u001b[0m sqrt_recip_alpha_t \u001b[38;5;241m=\u001b[39m (\u001b[38;5;241m1.0\u001b[39m \u001b[38;5;241m/\u001b[39m torch\u001b[38;5;241m.\u001b[39msqrt(alphas[t]))\u001b[38;5;241m.\u001b[39mto(device)\n\u001b[0;32m---> 13\u001b[0m epsilon_theta \u001b[38;5;241m=\u001b[39m \u001b[43mmodel\u001b[49m\u001b[43m(\u001b[49m\u001b[43mx_noisy\u001b[49m\u001b[43m,\u001b[49m\u001b[43m \u001b[49m\u001b[43mt_batch\u001b[49m\u001b[38;5;241;43m.\u001b[39;49m\u001b[43mfloat\u001b[49m\u001b[43m(\u001b[49m\u001b[43m)\u001b[49m\u001b[43m,\u001b[49m\u001b[43m \u001b[49m\u001b[43mlabels_one_hot\u001b[49m\u001b[43m)\u001b[49m\n\u001b[1;32m     14\u001b[0m model_mean \u001b[38;5;241m=\u001b[39m sqrt_recip_alpha_t \u001b[38;5;241m*\u001b[39m (x_noisy \u001b[38;5;241m-\u001b[39m beta_t \u001b[38;5;241m*\u001b[39m epsilon_theta \u001b[38;5;241m/\u001b[39m sqrt_one_minus_alphas_cumprod_t)\n\u001b[1;32m     15\u001b[0m \u001b[38;5;28;01mif\u001b[39;00m t \u001b[38;5;241m>\u001b[39m \u001b[38;5;241m1\u001b[39m:\n",
      "File \u001b[0;32m~/Desktop/number-gen/.venv/lib/python3.10/site-packages/torch/nn/modules/module.py:1751\u001b[0m, in \u001b[0;36mModule._wrapped_call_impl\u001b[0;34m(self, *args, **kwargs)\u001b[0m\n\u001b[1;32m   1749\u001b[0m     \u001b[38;5;28;01mreturn\u001b[39;00m \u001b[38;5;28mself\u001b[39m\u001b[38;5;241m.\u001b[39m_compiled_call_impl(\u001b[38;5;241m*\u001b[39margs, \u001b[38;5;241m*\u001b[39m\u001b[38;5;241m*\u001b[39mkwargs)  \u001b[38;5;66;03m# type: ignore[misc]\u001b[39;00m\n\u001b[1;32m   1750\u001b[0m \u001b[38;5;28;01melse\u001b[39;00m:\n\u001b[0;32m-> 1751\u001b[0m     \u001b[38;5;28;01mreturn\u001b[39;00m \u001b[38;5;28;43mself\u001b[39;49m\u001b[38;5;241;43m.\u001b[39;49m\u001b[43m_call_impl\u001b[49m\u001b[43m(\u001b[49m\u001b[38;5;241;43m*\u001b[39;49m\u001b[43margs\u001b[49m\u001b[43m,\u001b[49m\u001b[43m \u001b[49m\u001b[38;5;241;43m*\u001b[39;49m\u001b[38;5;241;43m*\u001b[39;49m\u001b[43mkwargs\u001b[49m\u001b[43m)\u001b[49m\n",
      "File \u001b[0;32m~/Desktop/number-gen/.venv/lib/python3.10/site-packages/torch/nn/modules/module.py:1762\u001b[0m, in \u001b[0;36mModule._call_impl\u001b[0;34m(self, *args, **kwargs)\u001b[0m\n\u001b[1;32m   1757\u001b[0m \u001b[38;5;66;03m# If we don't have any hooks, we want to skip the rest of the logic in\u001b[39;00m\n\u001b[1;32m   1758\u001b[0m \u001b[38;5;66;03m# this function, and just call forward.\u001b[39;00m\n\u001b[1;32m   1759\u001b[0m \u001b[38;5;28;01mif\u001b[39;00m \u001b[38;5;129;01mnot\u001b[39;00m (\u001b[38;5;28mself\u001b[39m\u001b[38;5;241m.\u001b[39m_backward_hooks \u001b[38;5;129;01mor\u001b[39;00m \u001b[38;5;28mself\u001b[39m\u001b[38;5;241m.\u001b[39m_backward_pre_hooks \u001b[38;5;129;01mor\u001b[39;00m \u001b[38;5;28mself\u001b[39m\u001b[38;5;241m.\u001b[39m_forward_hooks \u001b[38;5;129;01mor\u001b[39;00m \u001b[38;5;28mself\u001b[39m\u001b[38;5;241m.\u001b[39m_forward_pre_hooks\n\u001b[1;32m   1760\u001b[0m         \u001b[38;5;129;01mor\u001b[39;00m _global_backward_pre_hooks \u001b[38;5;129;01mor\u001b[39;00m _global_backward_hooks\n\u001b[1;32m   1761\u001b[0m         \u001b[38;5;129;01mor\u001b[39;00m _global_forward_hooks \u001b[38;5;129;01mor\u001b[39;00m _global_forward_pre_hooks):\n\u001b[0;32m-> 1762\u001b[0m     \u001b[38;5;28;01mreturn\u001b[39;00m \u001b[43mforward_call\u001b[49m\u001b[43m(\u001b[49m\u001b[38;5;241;43m*\u001b[39;49m\u001b[43margs\u001b[49m\u001b[43m,\u001b[49m\u001b[43m \u001b[49m\u001b[38;5;241;43m*\u001b[39;49m\u001b[38;5;241;43m*\u001b[39;49m\u001b[43mkwargs\u001b[49m\u001b[43m)\u001b[49m\n\u001b[1;32m   1764\u001b[0m result \u001b[38;5;241m=\u001b[39m \u001b[38;5;28;01mNone\u001b[39;00m\n\u001b[1;32m   1765\u001b[0m called_always_called_hooks \u001b[38;5;241m=\u001b[39m \u001b[38;5;28mset\u001b[39m()\n",
      "Cell \u001b[0;32mIn[8], line 59\u001b[0m, in \u001b[0;36mUNet.forward\u001b[0;34m(self, x, t, labels)\u001b[0m\n\u001b[1;32m     57\u001b[0m l_emb \u001b[38;5;241m=\u001b[39m \u001b[38;5;28mself\u001b[39m\u001b[38;5;241m.\u001b[39mlabel_mlp(labels)  \u001b[38;5;66;03m# (batch, 10) -> (batch, time_dim)\u001b[39;00m\n\u001b[1;32m     58\u001b[0m combined_emb \u001b[38;5;241m=\u001b[39m t_emb \u001b[38;5;241m+\u001b[39m l_emb\n\u001b[0;32m---> 59\u001b[0m x1 \u001b[38;5;241m=\u001b[39m \u001b[38;5;28;43mself\u001b[39;49m\u001b[38;5;241;43m.\u001b[39;49m\u001b[43menc1\u001b[49m(x) \u001b[38;5;241m+\u001b[39m \u001b[38;5;28mself\u001b[39m\u001b[38;5;241m.\u001b[39mtime_proj1(combined_emb)\u001b[38;5;241m.\u001b[39munsqueeze(\u001b[38;5;241m-\u001b[39m\u001b[38;5;241m1\u001b[39m)\u001b[38;5;241m.\u001b[39munsqueeze(\u001b[38;5;241m-\u001b[39m\u001b[38;5;241m1\u001b[39m)\n\u001b[1;32m     60\u001b[0m x2 \u001b[38;5;241m=\u001b[39m \u001b[38;5;28mself\u001b[39m\u001b[38;5;241m.\u001b[39menc2(x1) \u001b[38;5;241m+\u001b[39m \u001b[38;5;28mself\u001b[39m\u001b[38;5;241m.\u001b[39mtime_proj2(combined_emb)\u001b[38;5;241m.\u001b[39munsqueeze(\u001b[38;5;241m-\u001b[39m\u001b[38;5;241m1\u001b[39m)\u001b[38;5;241m.\u001b[39munsqueeze(\u001b[38;5;241m-\u001b[39m\u001b[38;5;241m1\u001b[39m)\n\u001b[1;32m     61\u001b[0m x3 \u001b[38;5;241m=\u001b[39m \u001b[38;5;28mself\u001b[39m\u001b[38;5;241m.\u001b[39menc3(x2) \u001b[38;5;241m+\u001b[39m \u001b[38;5;28mself\u001b[39m\u001b[38;5;241m.\u001b[39mtime_proj3(combined_emb)\u001b[38;5;241m.\u001b[39munsqueeze(\u001b[38;5;241m-\u001b[39m\u001b[38;5;241m1\u001b[39m)\u001b[38;5;241m.\u001b[39munsqueeze(\u001b[38;5;241m-\u001b[39m\u001b[38;5;241m1\u001b[39m)\n",
      "File \u001b[0;32m~/Desktop/number-gen/.venv/lib/python3.10/site-packages/torch/nn/modules/module.py:1927\u001b[0m, in \u001b[0;36mModule.__getattr__\u001b[0;34m(self, name)\u001b[0m\n\u001b[1;32m   1922\u001b[0m         \u001b[38;5;28mself\u001b[39m\u001b[38;5;241m.\u001b[39m_backward_pre_hooks \u001b[38;5;241m=\u001b[39m OrderedDict()\n\u001b[1;32m   1924\u001b[0m \u001b[38;5;66;03m# It is crucial that the return type is not annotated as `Any`, otherwise type checking\u001b[39;00m\n\u001b[1;32m   1925\u001b[0m \u001b[38;5;66;03m# on `torch.nn.Module` and all its subclasses is largely disabled as a result. See:\u001b[39;00m\n\u001b[1;32m   1926\u001b[0m \u001b[38;5;66;03m# https://github.com/pytorch/pytorch/pull/115074\u001b[39;00m\n\u001b[0;32m-> 1927\u001b[0m \u001b[38;5;28;01mdef\u001b[39;00m\u001b[38;5;250m \u001b[39m\u001b[38;5;21m__getattr__\u001b[39m(\u001b[38;5;28mself\u001b[39m, name: \u001b[38;5;28mstr\u001b[39m) \u001b[38;5;241m-\u001b[39m\u001b[38;5;241m>\u001b[39m Union[Tensor, \u001b[38;5;124m\"\u001b[39m\u001b[38;5;124mModule\u001b[39m\u001b[38;5;124m\"\u001b[39m]:\n\u001b[1;32m   1928\u001b[0m     \u001b[38;5;28;01mif\u001b[39;00m \u001b[38;5;124m\"\u001b[39m\u001b[38;5;124m_parameters\u001b[39m\u001b[38;5;124m\"\u001b[39m \u001b[38;5;129;01min\u001b[39;00m \u001b[38;5;28mself\u001b[39m\u001b[38;5;241m.\u001b[39m\u001b[38;5;18m__dict__\u001b[39m:\n\u001b[1;32m   1929\u001b[0m         _parameters \u001b[38;5;241m=\u001b[39m \u001b[38;5;28mself\u001b[39m\u001b[38;5;241m.\u001b[39m\u001b[38;5;18m__dict__\u001b[39m[\u001b[38;5;124m\"\u001b[39m\u001b[38;5;124m_parameters\u001b[39m\u001b[38;5;124m\"\u001b[39m]\n",
      "\u001b[0;31mKeyboardInterrupt\u001b[0m: "
     ]
    }
   ],
   "source": [
    "# Evaluate on test dataset with progress bar\n",
    "total_correct, total_samples = 0, 0\n",
    "all_samples = []\n",
    "all_predicted = []\n",
    "all_true = []\n",
    "\n",
    "print(\"Starting evaluation loop...\")\n",
    "pbar = tqdm.tqdm(test_dataloader, desc=\"Evaluating\")\n",
    "for x, labels in pbar:\n",
    "    print(f\"Processing batch with {len(labels)} samples...\")\n",
    "    try:\n",
    "        samples = sample(model, x, labels)  # Generate new samples conditioned on test labels\n",
    "        flat_samples = samples.view(len(labels), -1)\n",
    "        pred_labels = classifier(flat_samples)\n",
    "        _, predicted = torch.max(pred_labels, 1)\n",
    "        correct = (predicted == labels.to(device)).sum().item()\n",
    "        total_correct += correct\n",
    "        total_samples += len(labels)\n",
    "        all_samples.append(samples.cpu())\n",
    "        all_predicted.extend(predicted.cpu().numpy())\n",
    "        all_true.extend(labels.numpy())\n",
    "        pbar.set_postfix({'Batch Acc': f'{correct/len(labels)*100:.2f}%'})\n",
    "    except Exception as e:\n",
    "        print(f\"Error in batch: {e}. Skipping...\")\n",
    "        continue\n",
    "        \n",
    "    clear_output(wait=True)\n",
    "\n",
    "accuracy = total_correct / total_samples * 100 if total_samples > 0 else 0\n",
    "print(f\"Accuracy on MNIST test label-conditioned generation: {accuracy:.2f}%\")\n",
    "print(f\"Sample predicted values: {all_predicted[:20]}\")  # Check first 20 predictions"
   ]
  }
 ],
 "metadata": {
  "kernelspec": {
   "display_name": ".venv",
   "language": "python",
   "name": "python3"
  },
  "language_info": {
   "codemirror_mode": {
    "name": "ipython",
    "version": 3
   },
   "file_extension": ".py",
   "mimetype": "text/x-python",
   "name": "python",
   "nbconvert_exporter": "python",
   "pygments_lexer": "ipython3",
   "version": "3.10.12"
  }
 },
 "nbformat": 4,
 "nbformat_minor": 5
}
